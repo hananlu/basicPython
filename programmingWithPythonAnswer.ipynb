{
 "cells": [
  {
   "cell_type": "markdown",
   "metadata": {},
   "source": [
    "### Variable"
   ]
  },
  {
   "cell_type": "code",
   "execution_count": 1,
   "metadata": {},
   "outputs": [],
   "source": [
    "var = 100"
   ]
  },
  {
   "cell_type": "code",
   "execution_count": 2,
   "metadata": {},
   "outputs": [
    {
     "name": "stdout",
     "output_type": "stream",
     "text": [
      "<class 'int'>\n"
     ]
    }
   ],
   "source": [
    "print(type(var))"
   ]
  },
  {
   "cell_type": "code",
   "execution_count": 3,
   "metadata": {},
   "outputs": [],
   "source": [
    "nama = \"Robert Smith\""
   ]
  },
  {
   "cell_type": "code",
   "execution_count": 4,
   "metadata": {},
   "outputs": [
    {
     "ename": "SyntaxError",
     "evalue": "invalid decimal literal (695536910.py, line 1)",
     "output_type": "error",
     "traceback": [
      "\u001b[1;36m  Cell \u001b[1;32mIn[4], line 1\u001b[1;36m\u001b[0m\n\u001b[1;33m    2umur = 12\u001b[0m\n\u001b[1;37m    ^\u001b[0m\n\u001b[1;31mSyntaxError\u001b[0m\u001b[1;31m:\u001b[0m invalid decimal literal\n"
     ]
    }
   ],
   "source": [
    "2umur = 12"
   ]
  },
  {
   "cell_type": "code",
   "execution_count": 13,
   "metadata": {},
   "outputs": [],
   "source": [
    "namaDepan = input(\"Nama depan \")"
   ]
  },
  {
   "cell_type": "code",
   "execution_count": null,
   "metadata": {},
   "outputs": [],
   "source": [
    "namaDepan"
   ]
  },
  {
   "cell_type": "markdown",
   "metadata": {},
   "source": [
    "### Data Type"
   ]
  },
  {
   "cell_type": "markdown",
   "metadata": {},
   "source": [
    "#### Integer"
   ]
  },
  {
   "cell_type": "code",
   "execution_count": null,
   "metadata": {},
   "outputs": [],
   "source": [
    "nomor = 12\n",
    "print(nomor)"
   ]
  },
  {
   "cell_type": "code",
   "execution_count": null,
   "metadata": {},
   "outputs": [],
   "source": [
    "print(type(nomor))"
   ]
  },
  {
   "cell_type": "code",
   "execution_count": null,
   "metadata": {},
   "outputs": [],
   "source": [
    "nomor = -10\n",
    "print(nomor)"
   ]
  },
  {
   "cell_type": "markdown",
   "metadata": {},
   "source": [
    "#### Float"
   ]
  },
  {
   "cell_type": "code",
   "execution_count": 14,
   "metadata": {},
   "outputs": [
    {
     "name": "stdout",
     "output_type": "stream",
     "text": [
      "3.14\n"
     ]
    }
   ],
   "source": [
    "nomor = 3.14\n",
    "print(nomor)"
   ]
  },
  {
   "cell_type": "code",
   "execution_count": 15,
   "metadata": {},
   "outputs": [
    {
     "name": "stdout",
     "output_type": "stream",
     "text": [
      "<class 'float'>\n"
     ]
    }
   ],
   "source": [
    "print(type(nomor))"
   ]
  },
  {
   "cell_type": "markdown",
   "metadata": {},
   "source": [
    "#### Complex"
   ]
  },
  {
   "cell_type": "code",
   "execution_count": 18,
   "metadata": {},
   "outputs": [
    {
     "name": "stdout",
     "output_type": "stream",
     "text": [
      "(3+4j)\n"
     ]
    }
   ],
   "source": [
    "complexNumber = 3 + 4j\n",
    "print(complexNumber)"
   ]
  },
  {
   "cell_type": "code",
   "execution_count": 19,
   "metadata": {},
   "outputs": [
    {
     "name": "stdout",
     "output_type": "stream",
     "text": [
      "<class 'complex'>\n"
     ]
    }
   ],
   "source": [
    "print(type(complexNumber))"
   ]
  },
  {
   "cell_type": "markdown",
   "metadata": {},
   "source": [
    "#### Boolean"
   ]
  },
  {
   "cell_type": "code",
   "execution_count": 21,
   "metadata": {},
   "outputs": [
    {
     "name": "stdout",
     "output_type": "stream",
     "text": [
      "True\n"
     ]
    }
   ],
   "source": [
    "a = True\n",
    "print(a)"
   ]
  },
  {
   "cell_type": "code",
   "execution_count": 23,
   "metadata": {},
   "outputs": [
    {
     "name": "stdout",
     "output_type": "stream",
     "text": [
      "<class 'bool'>\n"
     ]
    }
   ],
   "source": [
    "print(type(a))"
   ]
  },
  {
   "cell_type": "code",
   "execution_count": null,
   "metadata": {},
   "outputs": [],
   "source": [
    "type(False)"
   ]
  },
  {
   "cell_type": "code",
   "execution_count": null,
   "metadata": {},
   "outputs": [],
   "source": [
    "bool(0)"
   ]
  },
  {
   "cell_type": "markdown",
   "metadata": {},
   "source": [
    "#### String"
   ]
  },
  {
   "cell_type": "code",
   "execution_count": 25,
   "metadata": {},
   "outputs": [
    {
     "name": "stdout",
     "output_type": "stream",
     "text": [
      "Hello World\n"
     ]
    }
   ],
   "source": [
    "name = \"Hello World\"\n",
    "print(name)"
   ]
  },
  {
   "cell_type": "code",
   "execution_count": 26,
   "metadata": {},
   "outputs": [
    {
     "name": "stdout",
     "output_type": "stream",
     "text": [
      "<class 'str'>\n"
     ]
    }
   ],
   "source": [
    "print(type(name))"
   ]
  },
  {
   "cell_type": "code",
   "execution_count": 27,
   "metadata": {},
   "outputs": [
    {
     "name": "stdout",
     "output_type": "stream",
     "text": [
      "Hello World\n"
     ]
    }
   ],
   "source": [
    "name = 'Hello World'\n",
    "print(name)"
   ]
  },
  {
   "cell_type": "code",
   "execution_count": 30,
   "metadata": {},
   "outputs": [
    {
     "name": "stdout",
     "output_type": "stream",
     "text": [
      "Hello \"world\"\n"
     ]
    }
   ],
   "source": [
    "name = 'Hello \"world\"'\n",
    "print(name)"
   ]
  },
  {
   "cell_type": "code",
   "execution_count": null,
   "metadata": {},
   "outputs": [],
   "source": [
    "hari = 'jum'at'\n",
    "hari"
   ]
  },
  {
   "cell_type": "code",
   "execution_count": null,
   "metadata": {},
   "outputs": [],
   "source": [
    "hari = \"jum'at\"\n",
    "hari"
   ]
  },
  {
   "cell_type": "markdown",
   "metadata": {},
   "source": [
    "#### Conversion"
   ]
  },
  {
   "cell_type": "code",
   "execution_count": null,
   "metadata": {},
   "outputs": [
    {
     "name": "stdout",
     "output_type": "stream",
     "text": [
      "<class 'str'>\n"
     ]
    }
   ],
   "source": [
    "nilai = \"4\"\n",
    "print(type(nilai))"
   ]
  },
  {
   "cell_type": "code",
   "execution_count": null,
   "metadata": {},
   "outputs": [
    {
     "name": "stdout",
     "output_type": "stream",
     "text": [
      "<class 'int'>\n"
     ]
    }
   ],
   "source": [
    "nilai = int(\"4\")\n",
    "print(type(nilai))"
   ]
  },
  {
   "cell_type": "code",
   "execution_count": null,
   "metadata": {},
   "outputs": [
    {
     "name": "stdout",
     "output_type": "stream",
     "text": [
      "<class 'int'>\n"
     ]
    }
   ],
   "source": [
    "nilai = 4\n",
    "print(type(nilai))"
   ]
  },
  {
   "cell_type": "code",
   "execution_count": null,
   "metadata": {},
   "outputs": [
    {
     "name": "stdout",
     "output_type": "stream",
     "text": [
      "<class 'str'>\n"
     ]
    }
   ],
   "source": [
    "nilai = str(4)\n",
    "print(type(nilai))"
   ]
  },
  {
   "cell_type": "markdown",
   "metadata": {},
   "source": [
    "### Data Structure"
   ]
  },
  {
   "cell_type": "markdown",
   "metadata": {},
   "source": [
    "#### List"
   ]
  },
  {
   "cell_type": "code",
   "execution_count": 60,
   "metadata": {},
   "outputs": [
    {
     "data": {
      "text/plain": [
       "[75, 85, 90, 65]"
      ]
     },
     "execution_count": 60,
     "metadata": {},
     "output_type": "execute_result"
    }
   ],
   "source": [
    "nilai = [75, 85, 90, 65]\n",
    "nilai"
   ]
  },
  {
   "cell_type": "code",
   "execution_count": 41,
   "metadata": {},
   "outputs": [
    {
     "name": "stdout",
     "output_type": "stream",
     "text": [
      "<class 'list'>\n"
     ]
    }
   ],
   "source": [
    "print(type(nilai))"
   ]
  },
  {
   "cell_type": "code",
   "execution_count": 42,
   "metadata": {},
   "outputs": [
    {
     "data": {
      "text/plain": [
       "85"
      ]
     },
     "execution_count": 42,
     "metadata": {},
     "output_type": "execute_result"
    }
   ],
   "source": [
    "nilai[1]"
   ]
  },
  {
   "cell_type": "code",
   "execution_count": 43,
   "metadata": {},
   "outputs": [
    {
     "data": {
      "text/plain": [
       "[90, 65]"
      ]
     },
     "execution_count": 43,
     "metadata": {},
     "output_type": "execute_result"
    }
   ],
   "source": [
    "nilai[2:]"
   ]
  },
  {
   "cell_type": "code",
   "execution_count": 44,
   "metadata": {},
   "outputs": [
    {
     "data": {
      "text/plain": [
       "[85, 90]"
      ]
     },
     "execution_count": 44,
     "metadata": {},
     "output_type": "execute_result"
    }
   ],
   "source": [
    "nilai[1:3]"
   ]
  },
  {
   "cell_type": "code",
   "execution_count": 61,
   "metadata": {},
   "outputs": [
    {
     "data": {
      "text/plain": [
       "[100, 85, 90, 65]"
      ]
     },
     "execution_count": 61,
     "metadata": {},
     "output_type": "execute_result"
    }
   ],
   "source": [
    "# Replace item\n",
    "nilai = [75, 85, 90, 65]\n",
    "nilai[0] = 100\n",
    "nilai"
   ]
  },
  {
   "cell_type": "code",
   "execution_count": 62,
   "metadata": {},
   "outputs": [
    {
     "data": {
      "text/plain": [
       "[75, 65, 85, 90, 65]"
      ]
     },
     "execution_count": 62,
     "metadata": {},
     "output_type": "execute_result"
    }
   ],
   "source": [
    "# Insert item at certain index\n",
    "nilai = [75, 85, 90, 65]\n",
    "nilai.insert(1, 65)\n",
    "nilai"
   ]
  },
  {
   "cell_type": "code",
   "execution_count": 63,
   "metadata": {},
   "outputs": [
    {
     "data": {
      "text/plain": [
       "[75, 65, 85, 90, 65]"
      ]
     },
     "execution_count": 63,
     "metadata": {},
     "output_type": "execute_result"
    }
   ],
   "source": [
    "#item addition at the end of the list\n",
    "nilai"
   ]
  },
  {
   "cell_type": "code",
   "execution_count": 64,
   "metadata": {},
   "outputs": [
    {
     "data": {
      "text/plain": [
       "[75, 65, 85, 90, 65, 50]"
      ]
     },
     "execution_count": 64,
     "metadata": {},
     "output_type": "execute_result"
    }
   ],
   "source": [
    "nilai.append(50)\n",
    "nilai"
   ]
  },
  {
   "cell_type": "code",
   "execution_count": 67,
   "metadata": {},
   "outputs": [
    {
     "data": {
      "text/plain": [
       "[75, 65, 85, 90, 65, 50]"
      ]
     },
     "execution_count": 67,
     "metadata": {},
     "output_type": "execute_result"
    }
   ],
   "source": [
    "# Item deletion\n",
    "nilai"
   ]
  },
  {
   "cell_type": "code",
   "execution_count": 68,
   "metadata": {},
   "outputs": [
    {
     "data": {
      "text/plain": [
       "[75, 65, 85, 90, 65]"
      ]
     },
     "execution_count": 68,
     "metadata": {},
     "output_type": "execute_result"
    }
   ],
   "source": [
    "nilai.pop()\n",
    "nilai"
   ]
  },
  {
   "cell_type": "code",
   "execution_count": 69,
   "metadata": {},
   "outputs": [
    {
     "data": {
      "text/plain": [
       "[75, 65, 85, 90, 65]"
      ]
     },
     "execution_count": 69,
     "metadata": {},
     "output_type": "execute_result"
    }
   ],
   "source": [
    "# Item deletion at certain index\n",
    "nilai"
   ]
  },
  {
   "cell_type": "code",
   "execution_count": 70,
   "metadata": {},
   "outputs": [
    {
     "data": {
      "text/plain": [
       "[65, 85, 90, 65]"
      ]
     },
     "execution_count": 70,
     "metadata": {},
     "output_type": "execute_result"
    }
   ],
   "source": [
    "nilai.pop(0)\n",
    "nilai"
   ]
  },
  {
   "cell_type": "code",
   "execution_count": null,
   "metadata": {},
   "outputs": [
    {
     "data": {
      "text/plain": [
       "[20, 30, 40, 50, 60, 70]"
      ]
     },
     "execution_count": 71,
     "metadata": {},
     "output_type": "execute_result"
    }
   ],
   "source": [
    "# List extension\n",
    "nilai1 = [20, 30, 40]\n",
    "nilai2 = [50, 60, 70]\n",
    "nilai1.extend(nilai2)\n",
    "nilai1"
   ]
  },
  {
   "cell_type": "markdown",
   "metadata": {},
   "source": [
    "#### Tuple"
   ]
  },
  {
   "cell_type": "code",
   "execution_count": null,
   "metadata": {},
   "outputs": [
    {
     "data": {
      "text/plain": [
       "('c', 'c++', 'rust', 'python')"
      ]
     },
     "execution_count": 2,
     "metadata": {},
     "output_type": "execute_result"
    }
   ],
   "source": [
    "# Accessing value\n",
    "languages = (\"c\", \"c++\", \"rust\", \"python\")\n",
    "languages"
   ]
  },
  {
   "cell_type": "code",
   "execution_count": 5,
   "metadata": {},
   "outputs": [
    {
     "data": {
      "text/plain": [
       "'rust'"
      ]
     },
     "execution_count": 5,
     "metadata": {},
     "output_type": "execute_result"
    }
   ],
   "source": [
    "languages[2]"
   ]
  },
  {
   "cell_type": "code",
   "execution_count": 6,
   "metadata": {},
   "outputs": [
    {
     "ename": "TypeError",
     "evalue": "'tuple' object does not support item assignment",
     "output_type": "error",
     "traceback": [
      "\u001b[1;31m---------------------------------------------------------------------------\u001b[0m",
      "\u001b[1;31mTypeError\u001b[0m                                 Traceback (most recent call last)",
      "Cell \u001b[1;32mIn[6], line 2\u001b[0m\n\u001b[0;32m      1\u001b[0m \u001b[38;5;66;03m# Immutable Characteristic\u001b[39;00m\n\u001b[1;32m----> 2\u001b[0m languages[\u001b[38;5;241m2\u001b[39m] \u001b[38;5;241m=\u001b[39m \u001b[38;5;124m'\u001b[39m\u001b[38;5;124mjavascript\u001b[39m\u001b[38;5;124m'\u001b[39m\n",
      "\u001b[1;31mTypeError\u001b[0m: 'tuple' object does not support item assignment"
     ]
    }
   ],
   "source": [
    "# Immutable Characteristic\n",
    "languages[2] = 'javascript'"
   ]
  },
  {
   "cell_type": "code",
   "execution_count": 7,
   "metadata": {},
   "outputs": [
    {
     "ename": "AttributeError",
     "evalue": "'tuple' object has no attribute 'pop'",
     "output_type": "error",
     "traceback": [
      "\u001b[1;31m---------------------------------------------------------------------------\u001b[0m",
      "\u001b[1;31mAttributeError\u001b[0m                            Traceback (most recent call last)",
      "Cell \u001b[1;32mIn[7], line 2\u001b[0m\n\u001b[0;32m      1\u001b[0m \u001b[38;5;66;03m# Immutable Characteristic\u001b[39;00m\n\u001b[1;32m----> 2\u001b[0m languages\u001b[38;5;241m.\u001b[39mpop(\u001b[38;5;241m2\u001b[39m)\n",
      "\u001b[1;31mAttributeError\u001b[0m: 'tuple' object has no attribute 'pop'"
     ]
    }
   ],
   "source": [
    "# Immutable Characteristic\n",
    "languages.pop(2)"
   ]
  },
  {
   "cell_type": "code",
   "execution_count": 32,
   "metadata": {},
   "outputs": [
    {
     "data": {
      "text/plain": [
       "('Jack', 'Mark', 'Keith')"
      ]
     },
     "execution_count": 32,
     "metadata": {},
     "output_type": "execute_result"
    }
   ],
   "source": [
    "nama = (\"Jack\", \"Mark\", \"Keith\")\n",
    "nama"
   ]
  },
  {
   "cell_type": "code",
   "execution_count": 33,
   "metadata": {},
   "outputs": [
    {
     "name": "stdout",
     "output_type": "stream",
     "text": [
      "Keith\n",
      "('Mark', 'Keith')\n"
     ]
    }
   ],
   "source": [
    "print(nama[2])\n",
    "print(nama[1:3])"
   ]
  },
  {
   "cell_type": "code",
   "execution_count": 8,
   "metadata": {},
   "outputs": [
    {
     "data": {
      "text/plain": [
       "(2, 3, 4, 4, 5, 6)"
      ]
     },
     "execution_count": 8,
     "metadata": {},
     "output_type": "execute_result"
    }
   ],
   "source": [
    "# Basic operation \n",
    "num1 = (2, 3, 4)\n",
    "num2 = (4, 5, 6)\n",
    "\n",
    "num1 + num2"
   ]
  },
  {
   "cell_type": "code",
   "execution_count": 10,
   "metadata": {},
   "outputs": [
    {
     "name": "stdout",
     "output_type": "stream",
     "text": [
      "(2, 3, 4, 2, 3, 4, 2, 3, 4)\n"
     ]
    }
   ],
   "source": [
    "# Basic operation\n",
    "num1 = (2, 3, 4)\n",
    "print(num1 * 3)"
   ]
  },
  {
   "cell_type": "code",
   "execution_count": 15,
   "metadata": {},
   "outputs": [
    {
     "data": {
      "text/plain": [
       "False"
      ]
     },
     "execution_count": 15,
     "metadata": {},
     "output_type": "execute_result"
    }
   ],
   "source": [
    "# Basic operation\n",
    "num1 = (2, 3, 4)\n",
    "num2 = (4, 5, 6)\n",
    "\n",
    "num1 > num2"
   ]
  },
  {
   "cell_type": "markdown",
   "metadata": {},
   "source": [
    "#### Set"
   ]
  },
  {
   "cell_type": "code",
   "execution_count": 25,
   "metadata": {},
   "outputs": [
    {
     "data": {
      "text/plain": [
       "{'apple', 'orange', 'pear'}"
      ]
     },
     "execution_count": 25,
     "metadata": {},
     "output_type": "execute_result"
    }
   ],
   "source": [
    "# No duplicate elements\n",
    "basket = {'apple', 'orange', 'apple', 'pear'}\n",
    "basket"
   ]
  },
  {
   "cell_type": "code",
   "execution_count": null,
   "metadata": {},
   "outputs": [
    {
     "ename": "TypeError",
     "evalue": "'set' object is not subscriptable",
     "output_type": "error",
     "traceback": [
      "\u001b[1;31m---------------------------------------------------------------------------\u001b[0m",
      "\u001b[1;31mTypeError\u001b[0m                                 Traceback (most recent call last)",
      "Cell \u001b[1;32mIn[19], line 2\u001b[0m\n\u001b[0;32m      1\u001b[0m \u001b[38;5;66;03m# Accessing value\u001b[39;00m\n\u001b[1;32m----> 2\u001b[0m basket[\u001b[38;5;241m2\u001b[39m]\n",
      "\u001b[1;31mTypeError\u001b[0m: 'set' object is not subscriptable"
     ]
    }
   ],
   "source": [
    "# Can't Accessing value\n",
    "basket[2]"
   ]
  },
  {
   "cell_type": "code",
   "execution_count": null,
   "metadata": {},
   "outputs": [
    {
     "data": {
      "text/plain": [
       "{'orange', 'pear'}"
      ]
     },
     "execution_count": 24,
     "metadata": {},
     "output_type": "execute_result"
    }
   ],
   "source": [
    "# Delete item in set\n",
    "basket.remove(\"apple\")\n",
    "basket"
   ]
  },
  {
   "cell_type": "markdown",
   "metadata": {},
   "source": [
    "#### Dictionary"
   ]
  },
  {
   "cell_type": "code",
   "execution_count": 32,
   "metadata": {},
   "outputs": [
    {
     "data": {
      "text/plain": [
       "{'pepperoni': 3, 'calzone': 5, 'margherita': 4}"
      ]
     },
     "execution_count": 32,
     "metadata": {},
     "output_type": "execute_result"
    }
   ],
   "source": [
    "# Accessing value\n",
    "pizza = {\"pepperoni\":3, \"calzone\":5, \"margherita\":4}\n",
    "pizza"
   ]
  },
  {
   "cell_type": "code",
   "execution_count": null,
   "metadata": {},
   "outputs": [
    {
     "data": {
      "text/plain": [
       "5"
      ]
     },
     "metadata": {},
     "output_type": "display_data"
    }
   ],
   "source": [
    "pizza['calzone']"
   ]
  },
  {
   "cell_type": "code",
   "execution_count": 33,
   "metadata": {},
   "outputs": [
    {
     "data": {
      "text/plain": [
       "{'pepperoni': 3, 'calzone': 5, 'margherita': 4}"
      ]
     },
     "execution_count": 33,
     "metadata": {},
     "output_type": "execute_result"
    }
   ],
   "source": [
    "# Replacing value\n",
    "pizza"
   ]
  },
  {
   "cell_type": "code",
   "execution_count": null,
   "metadata": {},
   "outputs": [
    {
     "data": {
      "text/plain": [
       "{'pepperoni': 2, 'calzone': 5, 'margherita': 4}"
      ]
     },
     "execution_count": 34,
     "metadata": {},
     "output_type": "execute_result"
    }
   ],
   "source": [
    "pizza['pepperoni'] = 2\n",
    "pizza"
   ]
  },
  {
   "cell_type": "code",
   "execution_count": 35,
   "metadata": {},
   "outputs": [
    {
     "data": {
      "text/plain": [
       "{'pepperoni': 3, 'calzone': 5, 'margherita': 4}"
      ]
     },
     "execution_count": 35,
     "metadata": {},
     "output_type": "execute_result"
    }
   ],
   "source": [
    "# Adding keys\n",
    "pizza = {\"pepperoni\":3, \"calzone\":5, \"margherita\":4}\n",
    "pizza"
   ]
  },
  {
   "cell_type": "code",
   "execution_count": 36,
   "metadata": {},
   "outputs": [
    {
     "data": {
      "text/plain": [
       "{'pepperoni': 3, 'calzone': 5, 'margherita': 4, 'pesto': 6}"
      ]
     },
     "execution_count": 36,
     "metadata": {},
     "output_type": "execute_result"
    }
   ],
   "source": [
    "pizza['pesto'] = 6\n",
    "pizza"
   ]
  },
  {
   "cell_type": "code",
   "execution_count": 37,
   "metadata": {},
   "outputs": [
    {
     "data": {
      "text/plain": [
       "{'pepperoni': 3, 'calzone': 5, 'margherita': 4, 'pesto': 6}"
      ]
     },
     "execution_count": 37,
     "metadata": {},
     "output_type": "execute_result"
    }
   ],
   "source": [
    "# Remove keys\n",
    "pizza"
   ]
  },
  {
   "cell_type": "code",
   "execution_count": 38,
   "metadata": {},
   "outputs": [
    {
     "data": {
      "text/plain": [
       "{'pepperoni': 3, 'margherita': 4, 'pesto': 6}"
      ]
     },
     "execution_count": 38,
     "metadata": {},
     "output_type": "execute_result"
    }
   ],
   "source": [
    "pizza.pop('calzone')\n",
    "pizza"
   ]
  },
  {
   "cell_type": "markdown",
   "metadata": {},
   "source": [
    "### Operator"
   ]
  },
  {
   "cell_type": "markdown",
   "metadata": {},
   "source": [
    "#### Arithmatic Operator"
   ]
  },
  {
   "cell_type": "code",
   "execution_count": null,
   "metadata": {},
   "outputs": [],
   "source": [
    "# Penjumlahan\n",
    "a = 4\n",
    "b = 9\n",
    "jumlah = a +b"
   ]
  },
  {
   "cell_type": "code",
   "execution_count": null,
   "metadata": {},
   "outputs": [],
   "source": [
    "jumlah"
   ]
  },
  {
   "cell_type": "code",
   "execution_count": null,
   "metadata": {},
   "outputs": [],
   "source": [
    "# Pengurangan\n",
    "kurang = b - a\n",
    "kurang"
   ]
  },
  {
   "cell_type": "code",
   "execution_count": null,
   "metadata": {},
   "outputs": [],
   "source": [
    "# Perkalian\n",
    "perkalian = a * 5\n",
    "perkalian"
   ]
  },
  {
   "cell_type": "code",
   "execution_count": null,
   "metadata": {},
   "outputs": [],
   "source": [
    "# Pembagian\n",
    "pembagian = b / a\n",
    "pembagian"
   ]
  },
  {
   "cell_type": "code",
   "execution_count": null,
   "metadata": {},
   "outputs": [],
   "source": [
    "c = 4\n",
    "d = 2\n",
    "c/d"
   ]
  },
  {
   "cell_type": "code",
   "execution_count": null,
   "metadata": {},
   "outputs": [],
   "source": [
    "# Modulo\n",
    "\n",
    "4 % 2 "
   ]
  },
  {
   "cell_type": "code",
   "execution_count": null,
   "metadata": {},
   "outputs": [],
   "source": [
    "# Pangkat\n",
    "\n",
    "3 ** 2"
   ]
  },
  {
   "cell_type": "code",
   "execution_count": null,
   "metadata": {},
   "outputs": [],
   "source": [
    "# Kombinasi Aritmatika\n",
    "3 + 5 * 2 - 4"
   ]
  },
  {
   "cell_type": "markdown",
   "metadata": {},
   "source": [
    "#### Assignment Operator"
   ]
  },
  {
   "cell_type": "code",
   "execution_count": null,
   "metadata": {},
   "outputs": [],
   "source": [
    "a = 3\n",
    "a"
   ]
  },
  {
   "cell_type": "markdown",
   "metadata": {},
   "source": [
    "#### Assignment and Arithmatic"
   ]
  },
  {
   "cell_type": "code",
   "execution_count": null,
   "metadata": {},
   "outputs": [],
   "source": [
    "a = 3\n",
    "a = a + 3\n",
    "a"
   ]
  },
  {
   "cell_type": "code",
   "execution_count": null,
   "metadata": {},
   "outputs": [],
   "source": [
    "a = 3\n",
    "a += 3\n",
    "a"
   ]
  },
  {
   "cell_type": "markdown",
   "metadata": {},
   "source": [
    "#### Comparasion Operator"
   ]
  },
  {
   "cell_type": "code",
   "execution_count": null,
   "metadata": {},
   "outputs": [],
   "source": [
    "a = 4\n",
    "b = 3\n",
    "print(a == b)\n",
    "print(a != b)\n",
    "print(a > b)\n",
    "print(a < b)\n",
    "print(a >= b)\n",
    "print(a <=b )"
   ]
  },
  {
   "cell_type": "markdown",
   "metadata": {},
   "source": [
    "#### Logical Operator"
   ]
  },
  {
   "cell_type": "code",
   "execution_count": null,
   "metadata": {},
   "outputs": [],
   "source": [
    "a = True\n",
    "b = False\n",
    "print(a and b)\n",
    "print(a or b)\n",
    "print(not b)"
   ]
  },
  {
   "cell_type": "code",
   "execution_count": null,
   "metadata": {},
   "outputs": [],
   "source": [
    "print((a < b) and (b > a))\n",
    "print((a < b) or (b < a))"
   ]
  },
  {
   "cell_type": "markdown",
   "metadata": {},
   "source": [
    "### Conditional Statement"
   ]
  },
  {
   "cell_type": "markdown",
   "metadata": {},
   "source": [
    "#### If conditional statement"
   ]
  },
  {
   "cell_type": "code",
   "execution_count": 73,
   "metadata": {},
   "outputs": [
    {
     "name": "stdout",
     "output_type": "stream",
     "text": [
      "A\n"
     ]
    }
   ],
   "source": [
    "if 85 > 80:\n",
    "    print(\"A\")"
   ]
  },
  {
   "cell_type": "code",
   "execution_count": 78,
   "metadata": {},
   "outputs": [
    {
     "name": "stdout",
     "output_type": "stream",
     "text": [
      "12 is positive number\n",
      "Finish\n"
     ]
    }
   ],
   "source": [
    "value = int(input(\"Input value \"))\n",
    "\n",
    "if value > 0:\n",
    "    print(f\"{value} is positive number\")\n",
    "print(\"Finish\")"
   ]
  },
  {
   "cell_type": "markdown",
   "metadata": {},
   "source": [
    "#### If else conditional statement"
   ]
  },
  {
   "cell_type": "code",
   "execution_count": 80,
   "metadata": {},
   "outputs": [
    {
     "name": "stdout",
     "output_type": "stream",
     "text": [
      "Odd\n",
      "Finish\n"
     ]
    }
   ],
   "source": [
    "number = int(input(\"Enter number \"))\n",
    "\n",
    "if number % 2 == 0:\n",
    "    print(\"Even\")\n",
    "else:\n",
    "    print(\"Odd\")\n",
    "print(\"Finish\")"
   ]
  },
  {
   "cell_type": "markdown",
   "metadata": {},
   "source": [
    "#### If elif else conditional statement"
   ]
  },
  {
   "cell_type": "code",
   "execution_count": 1,
   "metadata": {},
   "outputs": [
    {
     "name": "stdout",
     "output_type": "stream",
     "text": [
      "-5 is negative number\n"
     ]
    }
   ],
   "source": [
    "number = -5\n",
    "\n",
    "if (number > 0):\n",
    "    print(f\"{number} is positive number\")\n",
    "elif (number < 0):\n",
    "    print(f\"{number} is negative number\")\n",
    "else:\n",
    "    print(\"Zero\")"
   ]
  },
  {
   "cell_type": "markdown",
   "metadata": {},
   "source": [
    "### Looping"
   ]
  },
  {
   "cell_type": "markdown",
   "metadata": {},
   "source": [
    "#### While"
   ]
  },
  {
   "cell_type": "code",
   "execution_count": 5,
   "metadata": {},
   "outputs": [
    {
     "name": "stdout",
     "output_type": "stream",
     "text": [
      "Number 1\n",
      "Number 2\n",
      "Number 3\n",
      "Number 4\n",
      "Number 5\n",
      "Number 6\n",
      "Number 7\n",
      "Number 8\n",
      "Number 9\n",
      "Number 10\n"
     ]
    }
   ],
   "source": [
    "i = 0 \n",
    "while i < 10:\n",
    "    i += 1\n",
    "    print(f\"Number {i}\")"
   ]
  },
  {
   "cell_type": "code",
   "execution_count": 7,
   "metadata": {},
   "outputs": [],
   "source": [
    "i = 1\n",
    "while i != 0:\n",
    "    i = int(input(\"Input 0 to exit \"))"
   ]
  },
  {
   "cell_type": "markdown",
   "metadata": {},
   "source": [
    "#### For"
   ]
  },
  {
   "cell_type": "code",
   "execution_count": 8,
   "metadata": {},
   "outputs": [
    {
     "name": "stdout",
     "output_type": "stream",
     "text": [
      "0\n",
      "1\n",
      "2\n",
      "3\n",
      "4\n",
      "5\n"
     ]
    }
   ],
   "source": [
    "for i in range(6):\n",
    "    print(i)"
   ]
  },
  {
   "cell_type": "code",
   "execution_count": 9,
   "metadata": {},
   "outputs": [
    {
     "name": "stdout",
     "output_type": "stream",
     "text": [
      "1\n",
      "3\n",
      "5\n",
      "7\n",
      "9\n"
     ]
    }
   ],
   "source": [
    "for i in range(1, 11, 2):\n",
    "    print(i)"
   ]
  },
  {
   "cell_type": "code",
   "execution_count": 11,
   "metadata": {},
   "outputs": [
    {
     "name": "stdout",
     "output_type": "stream",
     "text": [
      "w\n",
      "o\n",
      "r\n",
      "d\n",
      "s\n"
     ]
    }
   ],
   "source": [
    "for i in 'words':\n",
    "    print(i)"
   ]
  },
  {
   "cell_type": "code",
   "execution_count": 10,
   "metadata": {},
   "outputs": [
    {
     "name": "stdout",
     "output_type": "stream",
     "text": [
      "Swift\n",
      "Python\n",
      "Go\n"
     ]
    }
   ],
   "source": [
    "languages = ['Swift', 'Python', 'Go']\n",
    "\n",
    "for lang in languages:\n",
    "    print(lang)"
   ]
  },
  {
   "cell_type": "code",
   "execution_count": 12,
   "metadata": {},
   "outputs": [
    {
     "name": "stdout",
     "output_type": "stream",
     "text": [
      "1 is odd\n",
      "2 is even\n",
      "3 is odd\n",
      "4 is even\n",
      "5 is odd\n",
      "6 is even\n",
      "7 is odd\n",
      "8 is even\n",
      "9 is odd\n",
      "10 is even\n",
      "11 is odd\n",
      "12 is even\n",
      "13 is odd\n",
      "14 is even\n",
      "15 is odd\n",
      "16 is even\n",
      "17 is odd\n",
      "18 is even\n",
      "19 is odd\n",
      "20 is even\n"
     ]
    }
   ],
   "source": [
    "for i in range(1, 21):\n",
    "    if i % 2 == 0:\n",
    "        print(f\"{i} is even\")\n",
    "    else:\n",
    "        print(f\"{i} is odd\")"
   ]
  },
  {
   "cell_type": "markdown",
   "metadata": {},
   "source": [
    "### Function"
   ]
  },
  {
   "cell_type": "code",
   "execution_count": null,
   "metadata": {},
   "outputs": [],
   "source": [
    "def function_name(parameters):\n",
    "    # Statement\n",
    "    return expression"
   ]
  },
  {
   "cell_type": "code",
   "execution_count": 1,
   "metadata": {},
   "outputs": [
    {
     "name": "stdout",
     "output_type": "stream",
     "text": [
      "Hello World\n"
     ]
    }
   ],
   "source": [
    "def fun():\n",
    "    print(\"Hello World\")\n",
    "\n",
    "fun()"
   ]
  },
  {
   "cell_type": "code",
   "execution_count": 5,
   "metadata": {},
   "outputs": [
    {
     "name": "stdout",
     "output_type": "stream",
     "text": [
      "Area of a triangle is 12.0\n"
     ]
    }
   ],
   "source": [
    "def areaTriangle(a, b):\n",
    "    area = 0.5 * a * b\n",
    "    print(f\"Area of a triangle is {area}\")\n",
    "\n",
    "areaTriangle(4, 6)"
   ]
  },
  {
   "cell_type": "code",
   "execution_count": 6,
   "metadata": {},
   "outputs": [
    {
     "name": "stdout",
     "output_type": "stream",
     "text": [
      "Area of a triangle is 9.0\n"
     ]
    }
   ],
   "source": [
    "def areaTriangle(a, b=6):\n",
    "    area = 0.5 * a * b\n",
    "    print(f\"Area of a triangle is {area}\")\n",
    "\n",
    "areaTriangle(3)"
   ]
  },
  {
   "cell_type": "code",
   "execution_count": 2,
   "metadata": {},
   "outputs": [],
   "source": [
    "import pandas as pd\n",
    "import numpy as np\n",
    "import matplotlib.pyplot as plt\n",
    "import seaborn as sns"
   ]
  },
  {
   "cell_type": "markdown",
   "metadata": {},
   "source": [
    "### Numpy"
   ]
  },
  {
   "cell_type": "code",
   "execution_count": 1,
   "metadata": {},
   "outputs": [],
   "source": [
    "import numpy as np"
   ]
  },
  {
   "cell_type": "code",
   "execution_count": 3,
   "metadata": {},
   "outputs": [
    {
     "name": "stdout",
     "output_type": "stream",
     "text": [
      "[1 2 3 4 5]\n"
     ]
    }
   ],
   "source": [
    "# NumPy array one dimension\n",
    "a = np.array([1, 2, 3, 4, 5])\n",
    "print(a)"
   ]
  },
  {
   "cell_type": "code",
   "execution_count": 4,
   "metadata": {},
   "outputs": [
    {
     "name": "stdout",
     "output_type": "stream",
     "text": [
      "[1 2 3 4 5]\n"
     ]
    }
   ],
   "source": [
    "# NumPy access index\n",
    "print(a)"
   ]
  },
  {
   "cell_type": "code",
   "execution_count": 5,
   "metadata": {},
   "outputs": [
    {
     "data": {
      "text/plain": [
       "3"
      ]
     },
     "execution_count": 5,
     "metadata": {},
     "output_type": "execute_result"
    }
   ],
   "source": [
    "a[2]"
   ]
  },
  {
   "cell_type": "code",
   "execution_count": 6,
   "metadata": {},
   "outputs": [
    {
     "name": "stdout",
     "output_type": "stream",
     "text": [
      "[[1 2 3]\n",
      " [4 5 6]]\n"
     ]
    }
   ],
   "source": [
    "# NumPy array two dimension\n",
    "b = np.array([[1, 2, 3], \n",
    "              [4, 5, 6]])\n",
    "print(b)"
   ]
  },
  {
   "cell_type": "code",
   "execution_count": 8,
   "metadata": {},
   "outputs": [
    {
     "name": "stdout",
     "output_type": "stream",
     "text": [
      "[[1 2 3]\n",
      " [4 5 6]]\n"
     ]
    }
   ],
   "source": [
    "# NumPy access index\n",
    "print(b)"
   ]
  },
  {
   "cell_type": "code",
   "execution_count": 9,
   "metadata": {},
   "outputs": [
    {
     "data": {
      "text/plain": [
       "5"
      ]
     },
     "execution_count": 9,
     "metadata": {},
     "output_type": "execute_result"
    }
   ],
   "source": [
    "b[1][1]"
   ]
  },
  {
   "cell_type": "code",
   "execution_count": 10,
   "metadata": {},
   "outputs": [
    {
     "name": "stdout",
     "output_type": "stream",
     "text": [
      "[[1 2 3]\n",
      " [4 5 6]]\n"
     ]
    }
   ],
   "source": [
    "# Check data type\n",
    "print(b)"
   ]
  },
  {
   "cell_type": "code",
   "execution_count": 11,
   "metadata": {},
   "outputs": [
    {
     "data": {
      "text/plain": [
       "dtype('int32')"
      ]
     },
     "execution_count": 11,
     "metadata": {},
     "output_type": "execute_result"
    }
   ],
   "source": [
    "b.dtype"
   ]
  },
  {
   "cell_type": "code",
   "execution_count": 12,
   "metadata": {},
   "outputs": [
    {
     "name": "stdout",
     "output_type": "stream",
     "text": [
      "[[1 2 3]\n",
      " [4 5 6]]\n"
     ]
    }
   ],
   "source": [
    "print(b)"
   ]
  },
  {
   "cell_type": "code",
   "execution_count": 13,
   "metadata": {},
   "outputs": [
    {
     "data": {
      "text/plain": [
       "(2, 3)"
      ]
     },
     "execution_count": 13,
     "metadata": {},
     "output_type": "execute_result"
    }
   ],
   "source": [
    "b.shape"
   ]
  },
  {
   "cell_type": "code",
   "execution_count": 12,
   "metadata": {},
   "outputs": [
    {
     "data": {
      "text/plain": [
       "array([0, 1, 2, 3, 4])"
      ]
     },
     "execution_count": 12,
     "metadata": {},
     "output_type": "execute_result"
    }
   ],
   "source": [
    "# Create array with range of  elements\n",
    "c = np.arange(5)\n",
    "c"
   ]
  },
  {
   "cell_type": "code",
   "execution_count": 15,
   "metadata": {},
   "outputs": [
    {
     "data": {
      "text/plain": [
       "array([8, 7, 3, 9, 4])"
      ]
     },
     "execution_count": 15,
     "metadata": {},
     "output_type": "execute_result"
    }
   ],
   "source": [
    "# NumPy array with sorted elements\n",
    "d = np.random.randint(10, size=5)\n",
    "d"
   ]
  },
  {
   "cell_type": "code",
   "execution_count": 16,
   "metadata": {},
   "outputs": [
    {
     "data": {
      "text/plain": [
       "array([3, 4, 7, 8, 9])"
      ]
     },
     "execution_count": 16,
     "metadata": {},
     "output_type": "execute_result"
    }
   ],
   "source": [
    "d.sort()\n",
    "d"
   ]
  },
  {
   "cell_type": "code",
   "execution_count": 17,
   "metadata": {},
   "outputs": [
    {
     "data": {
      "text/plain": [
       "array([0, 1, 2, 3, 4])"
      ]
     },
     "execution_count": 17,
     "metadata": {},
     "output_type": "execute_result"
    }
   ],
   "source": [
    "# Show total elements\n",
    "c"
   ]
  },
  {
   "cell_type": "code",
   "execution_count": 18,
   "metadata": {},
   "outputs": [
    {
     "data": {
      "text/plain": [
       "5"
      ]
     },
     "execution_count": 18,
     "metadata": {},
     "output_type": "execute_result"
    }
   ],
   "source": [
    "c.size"
   ]
  },
  {
   "cell_type": "code",
   "execution_count": 19,
   "metadata": {},
   "outputs": [
    {
     "name": "stdout",
     "output_type": "stream",
     "text": [
      "[[1 2 3]\n",
      " [4 5 6]]\n"
     ]
    }
   ],
   "source": [
    "# Specify the number of elements along each dimension\n",
    "b = np.array([[1, 2, 3], \n",
    "              [4, 5, 6]])\n",
    "print(b)"
   ]
  },
  {
   "cell_type": "code",
   "execution_count": 20,
   "metadata": {},
   "outputs": [
    {
     "data": {
      "text/plain": [
       "(2, 3)"
      ]
     },
     "execution_count": 20,
     "metadata": {},
     "output_type": "execute_result"
    }
   ],
   "source": [
    "b.shape"
   ]
  },
  {
   "cell_type": "markdown",
   "metadata": {},
   "source": [
    "### Pandas"
   ]
  },
  {
   "cell_type": "markdown",
   "metadata": {},
   "source": [
    "#### Series and Dataframe"
   ]
  },
  {
   "cell_type": "code",
   "execution_count": 3,
   "metadata": {},
   "outputs": [
    {
     "data": {
      "text/plain": [
       "0    1\n",
       "1    2\n",
       "2    3\n",
       "3    4\n",
       "4    5\n",
       "dtype: int64"
      ]
     },
     "execution_count": 3,
     "metadata": {},
     "output_type": "execute_result"
    }
   ],
   "source": [
    "# Series\n",
    "a  = pd.Series([1, 2, 3, 4, 5])\n",
    "a"
   ]
  },
  {
   "cell_type": "code",
   "execution_count": 5,
   "metadata": {},
   "outputs": [
    {
     "data": {
      "text/html": [
       "<div>\n",
       "<style scoped>\n",
       "    .dataframe tbody tr th:only-of-type {\n",
       "        vertical-align: middle;\n",
       "    }\n",
       "\n",
       "    .dataframe tbody tr th {\n",
       "        vertical-align: top;\n",
       "    }\n",
       "\n",
       "    .dataframe thead th {\n",
       "        text-align: right;\n",
       "    }\n",
       "</style>\n",
       "<table border=\"1\" class=\"dataframe\">\n",
       "  <thead>\n",
       "    <tr style=\"text-align: right;\">\n",
       "      <th></th>\n",
       "      <th>Name</th>\n",
       "      <th>Age</th>\n",
       "    </tr>\n",
       "  </thead>\n",
       "  <tbody>\n",
       "    <tr>\n",
       "      <th>0</th>\n",
       "      <td>Jack</td>\n",
       "      <td>25</td>\n",
       "    </tr>\n",
       "    <tr>\n",
       "      <th>1</th>\n",
       "      <td>Mark</td>\n",
       "      <td>30</td>\n",
       "    </tr>\n",
       "    <tr>\n",
       "      <th>2</th>\n",
       "      <td>Keith</td>\n",
       "      <td>35</td>\n",
       "    </tr>\n",
       "  </tbody>\n",
       "</table>\n",
       "</div>"
      ],
      "text/plain": [
       "    Name  Age\n",
       "0   Jack   25\n",
       "1   Mark   30\n",
       "2  Keith   35"
      ]
     },
     "execution_count": 5,
     "metadata": {},
     "output_type": "execute_result"
    }
   ],
   "source": [
    "# DataFrame\n",
    "data = {\"Name\": [\"Jack\", \"Mark\", \"Keith\"],\n",
    "        \"Age\": [25, 30, 35]}\n",
    "df = pd.DataFrame(data)\n",
    "df"
   ]
  },
  {
   "cell_type": "code",
   "execution_count": 6,
   "metadata": {},
   "outputs": [
    {
     "data": {
      "text/html": [
       "<div>\n",
       "<style scoped>\n",
       "    .dataframe tbody tr th:only-of-type {\n",
       "        vertical-align: middle;\n",
       "    }\n",
       "\n",
       "    .dataframe tbody tr th {\n",
       "        vertical-align: top;\n",
       "    }\n",
       "\n",
       "    .dataframe thead th {\n",
       "        text-align: right;\n",
       "    }\n",
       "</style>\n",
       "<table border=\"1\" class=\"dataframe\">\n",
       "  <thead>\n",
       "    <tr style=\"text-align: right;\">\n",
       "      <th></th>\n",
       "      <th>Name</th>\n",
       "      <th>Age</th>\n",
       "    </tr>\n",
       "  </thead>\n",
       "  <tbody>\n",
       "    <tr>\n",
       "      <th>0</th>\n",
       "      <td>Jack</td>\n",
       "      <td>25</td>\n",
       "    </tr>\n",
       "    <tr>\n",
       "      <th>1</th>\n",
       "      <td>Mark</td>\n",
       "      <td>30</td>\n",
       "    </tr>\n",
       "    <tr>\n",
       "      <th>2</th>\n",
       "      <td>Keith</td>\n",
       "      <td>35</td>\n",
       "    </tr>\n",
       "  </tbody>\n",
       "</table>\n",
       "</div>"
      ],
      "text/plain": [
       "    Name  Age\n",
       "0   Jack   25\n",
       "1   Mark   30\n",
       "2  Keith   35"
      ]
     },
     "execution_count": 6,
     "metadata": {},
     "output_type": "execute_result"
    }
   ],
   "source": [
    "# Show index\n",
    "df"
   ]
  },
  {
   "cell_type": "code",
   "execution_count": 7,
   "metadata": {},
   "outputs": [
    {
     "data": {
      "text/plain": [
       "RangeIndex(start=0, stop=3, step=1)"
      ]
     },
     "execution_count": 7,
     "metadata": {},
     "output_type": "execute_result"
    }
   ],
   "source": [
    "df.index"
   ]
  },
  {
   "cell_type": "markdown",
   "metadata": {},
   "source": [
    "#### Load dataset and read dataset"
   ]
  },
  {
   "cell_type": "code",
   "execution_count": 8,
   "metadata": {},
   "outputs": [
    {
     "data": {
      "text/html": [
       "<div>\n",
       "<style scoped>\n",
       "    .dataframe tbody tr th:only-of-type {\n",
       "        vertical-align: middle;\n",
       "    }\n",
       "\n",
       "    .dataframe tbody tr th {\n",
       "        vertical-align: top;\n",
       "    }\n",
       "\n",
       "    .dataframe thead th {\n",
       "        text-align: right;\n",
       "    }\n",
       "</style>\n",
       "<table border=\"1\" class=\"dataframe\">\n",
       "  <thead>\n",
       "    <tr style=\"text-align: right;\">\n",
       "      <th></th>\n",
       "      <th>Rank</th>\n",
       "      <th>CCA3</th>\n",
       "      <th>Country</th>\n",
       "      <th>Capital</th>\n",
       "      <th>Continent</th>\n",
       "      <th>2022 Population</th>\n",
       "      <th>2020 Population</th>\n",
       "      <th>2015 Population</th>\n",
       "      <th>2010 Population</th>\n",
       "      <th>2000 Population</th>\n",
       "      <th>1990 Population</th>\n",
       "      <th>1980 Population</th>\n",
       "      <th>1970 Population</th>\n",
       "      <th>Area (km²)</th>\n",
       "      <th>Density (per km²)</th>\n",
       "      <th>Growth Rate</th>\n",
       "      <th>World Population Percentage</th>\n",
       "    </tr>\n",
       "  </thead>\n",
       "  <tbody>\n",
       "    <tr>\n",
       "      <th>0</th>\n",
       "      <td>36</td>\n",
       "      <td>AFG</td>\n",
       "      <td>Afghanistan</td>\n",
       "      <td>Kabul</td>\n",
       "      <td>Asia</td>\n",
       "      <td>41128771.0</td>\n",
       "      <td>38972230.0</td>\n",
       "      <td>33753499.0</td>\n",
       "      <td>28189672.0</td>\n",
       "      <td>19542982.0</td>\n",
       "      <td>10694796.0</td>\n",
       "      <td>12486631.0</td>\n",
       "      <td>10752971.0</td>\n",
       "      <td>652230.0</td>\n",
       "      <td>63.0587</td>\n",
       "      <td>1.0257</td>\n",
       "      <td>0.52</td>\n",
       "    </tr>\n",
       "    <tr>\n",
       "      <th>1</th>\n",
       "      <td>138</td>\n",
       "      <td>ALB</td>\n",
       "      <td>Albania</td>\n",
       "      <td>Tirana</td>\n",
       "      <td>Europe</td>\n",
       "      <td>2842321.0</td>\n",
       "      <td>2866849.0</td>\n",
       "      <td>2882481.0</td>\n",
       "      <td>2913399.0</td>\n",
       "      <td>3182021.0</td>\n",
       "      <td>3295066.0</td>\n",
       "      <td>2941651.0</td>\n",
       "      <td>2324731.0</td>\n",
       "      <td>28748.0</td>\n",
       "      <td>98.8702</td>\n",
       "      <td>0.9957</td>\n",
       "      <td>0.04</td>\n",
       "    </tr>\n",
       "    <tr>\n",
       "      <th>2</th>\n",
       "      <td>34</td>\n",
       "      <td>DZA</td>\n",
       "      <td>Algeria</td>\n",
       "      <td>Algiers</td>\n",
       "      <td>Africa</td>\n",
       "      <td>44903225.0</td>\n",
       "      <td>43451666.0</td>\n",
       "      <td>39543154.0</td>\n",
       "      <td>35856344.0</td>\n",
       "      <td>30774621.0</td>\n",
       "      <td>25518074.0</td>\n",
       "      <td>18739378.0</td>\n",
       "      <td>13795915.0</td>\n",
       "      <td>2381741.0</td>\n",
       "      <td>18.8531</td>\n",
       "      <td>1.0164</td>\n",
       "      <td>0.56</td>\n",
       "    </tr>\n",
       "    <tr>\n",
       "      <th>3</th>\n",
       "      <td>213</td>\n",
       "      <td>ASM</td>\n",
       "      <td>American Samoa</td>\n",
       "      <td>Pago Pago</td>\n",
       "      <td>Oceania</td>\n",
       "      <td>44273.0</td>\n",
       "      <td>46189.0</td>\n",
       "      <td>51368.0</td>\n",
       "      <td>54849.0</td>\n",
       "      <td>58230.0</td>\n",
       "      <td>47818.0</td>\n",
       "      <td>32886.0</td>\n",
       "      <td>27075.0</td>\n",
       "      <td>199.0</td>\n",
       "      <td>222.4774</td>\n",
       "      <td>0.9831</td>\n",
       "      <td>0.00</td>\n",
       "    </tr>\n",
       "    <tr>\n",
       "      <th>4</th>\n",
       "      <td>203</td>\n",
       "      <td>AND</td>\n",
       "      <td>Andorra</td>\n",
       "      <td>Andorra la Vella</td>\n",
       "      <td>Europe</td>\n",
       "      <td>79824.0</td>\n",
       "      <td>77700.0</td>\n",
       "      <td>71746.0</td>\n",
       "      <td>71519.0</td>\n",
       "      <td>66097.0</td>\n",
       "      <td>53569.0</td>\n",
       "      <td>35611.0</td>\n",
       "      <td>19860.0</td>\n",
       "      <td>468.0</td>\n",
       "      <td>170.5641</td>\n",
       "      <td>1.0100</td>\n",
       "      <td>0.00</td>\n",
       "    </tr>\n",
       "  </tbody>\n",
       "</table>\n",
       "</div>"
      ],
      "text/plain": [
       "   Rank CCA3         Country           Capital Continent  2022 Population  \\\n",
       "0    36  AFG     Afghanistan             Kabul      Asia       41128771.0   \n",
       "1   138  ALB         Albania            Tirana    Europe        2842321.0   \n",
       "2    34  DZA         Algeria           Algiers    Africa       44903225.0   \n",
       "3   213  ASM  American Samoa         Pago Pago   Oceania          44273.0   \n",
       "4   203  AND         Andorra  Andorra la Vella    Europe          79824.0   \n",
       "\n",
       "   2020 Population  2015 Population  2010 Population  2000 Population  \\\n",
       "0       38972230.0       33753499.0       28189672.0       19542982.0   \n",
       "1        2866849.0        2882481.0        2913399.0        3182021.0   \n",
       "2       43451666.0       39543154.0       35856344.0       30774621.0   \n",
       "3          46189.0          51368.0          54849.0          58230.0   \n",
       "4          77700.0          71746.0          71519.0          66097.0   \n",
       "\n",
       "   1990 Population  1980 Population  1970 Population  Area (km²)  \\\n",
       "0       10694796.0       12486631.0       10752971.0    652230.0   \n",
       "1        3295066.0        2941651.0        2324731.0     28748.0   \n",
       "2       25518074.0       18739378.0       13795915.0   2381741.0   \n",
       "3          47818.0          32886.0          27075.0       199.0   \n",
       "4          53569.0          35611.0          19860.0       468.0   \n",
       "\n",
       "   Density (per km²)  Growth Rate  World Population Percentage  \n",
       "0            63.0587       1.0257                         0.52  \n",
       "1            98.8702       0.9957                         0.04  \n",
       "2            18.8531       1.0164                         0.56  \n",
       "3           222.4774       0.9831                         0.00  \n",
       "4           170.5641       1.0100                         0.00  "
      ]
     },
     "execution_count": 8,
     "metadata": {},
     "output_type": "execute_result"
    }
   ],
   "source": [
    "# Read CSV file\n",
    "df = pd.read_csv(\"https://raw.githubusercontent.com/AlexTheAnalyst/PandasYouTubeSeries/refs/heads/main/world_population.csv\")\n",
    "df.head()"
   ]
  },
  {
   "cell_type": "markdown",
   "metadata": {},
   "source": [
    "#### Column name and data type"
   ]
  },
  {
   "cell_type": "code",
   "execution_count": 9,
   "metadata": {},
   "outputs": [
    {
     "name": "stdout",
     "output_type": "stream",
     "text": [
      "<class 'pandas.core.frame.DataFrame'>\n",
      "RangeIndex: 234 entries, 0 to 233\n",
      "Data columns (total 17 columns):\n",
      " #   Column                       Non-Null Count  Dtype  \n",
      "---  ------                       --------------  -----  \n",
      " 0   Rank                         234 non-null    int64  \n",
      " 1   CCA3                         234 non-null    object \n",
      " 2   Country                      234 non-null    object \n",
      " 3   Capital                      234 non-null    object \n",
      " 4   Continent                    234 non-null    object \n",
      " 5   2022 Population              230 non-null    float64\n",
      " 6   2020 Population              233 non-null    float64\n",
      " 7   2015 Population              230 non-null    float64\n",
      " 8   2010 Population              227 non-null    float64\n",
      " 9   2000 Population              227 non-null    float64\n",
      " 10  1990 Population              229 non-null    float64\n",
      " 11  1980 Population              229 non-null    float64\n",
      " 12  1970 Population              230 non-null    float64\n",
      " 13  Area (km²)                   232 non-null    float64\n",
      " 14  Density (per km²)            230 non-null    float64\n",
      " 15  Growth Rate                  232 non-null    float64\n",
      " 16  World Population Percentage  234 non-null    float64\n",
      "dtypes: float64(12), int64(1), object(4)\n",
      "memory usage: 31.2+ KB\n"
     ]
    }
   ],
   "source": [
    "df.info()"
   ]
  },
  {
   "cell_type": "code",
   "execution_count": 10,
   "metadata": {},
   "outputs": [
    {
     "data": {
      "text/plain": [
       "Rank                             int64\n",
       "CCA3                            object\n",
       "Country                         object\n",
       "Capital                         object\n",
       "Continent                       object\n",
       "2022 Population                float64\n",
       "2020 Population                float64\n",
       "2015 Population                float64\n",
       "2010 Population                float64\n",
       "2000 Population                float64\n",
       "1990 Population                float64\n",
       "1980 Population                float64\n",
       "1970 Population                float64\n",
       "Area (km²)                     float64\n",
       "Density (per km²)              float64\n",
       "Growth Rate                    float64\n",
       "World Population Percentage    float64\n",
       "dtype: object"
      ]
     },
     "execution_count": 10,
     "metadata": {},
     "output_type": "execute_result"
    }
   ],
   "source": [
    "df.dtypes"
   ]
  },
  {
   "cell_type": "code",
   "execution_count": 13,
   "metadata": {},
   "outputs": [
    {
     "data": {
      "text/plain": [
       "(234, 17)"
      ]
     },
     "execution_count": 13,
     "metadata": {},
     "output_type": "execute_result"
    }
   ],
   "source": [
    "df.shape"
   ]
  },
  {
   "cell_type": "code",
   "execution_count": 14,
   "metadata": {},
   "outputs": [
    {
     "data": {
      "text/plain": [
       "Index(['Rank', 'CCA3', 'Country', 'Capital', 'Continent', '2022 Population',\n",
       "       '2020 Population', '2015 Population', '2010 Population',\n",
       "       '2000 Population', '1990 Population', '1980 Population',\n",
       "       '1970 Population', 'Area (km²)', 'Density (per km²)', 'Growth Rate',\n",
       "       'World Population Percentage'],\n",
       "      dtype='object')"
      ]
     },
     "execution_count": 14,
     "metadata": {},
     "output_type": "execute_result"
    }
   ],
   "source": [
    "df.columns"
   ]
  },
  {
   "cell_type": "markdown",
   "metadata": {},
   "source": [
    "#### View descriptive statistics"
   ]
  },
  {
   "cell_type": "code",
   "execution_count": 15,
   "metadata": {},
   "outputs": [
    {
     "data": {
      "text/html": [
       "<div>\n",
       "<style scoped>\n",
       "    .dataframe tbody tr th:only-of-type {\n",
       "        vertical-align: middle;\n",
       "    }\n",
       "\n",
       "    .dataframe tbody tr th {\n",
       "        vertical-align: top;\n",
       "    }\n",
       "\n",
       "    .dataframe thead th {\n",
       "        text-align: right;\n",
       "    }\n",
       "</style>\n",
       "<table border=\"1\" class=\"dataframe\">\n",
       "  <thead>\n",
       "    <tr style=\"text-align: right;\">\n",
       "      <th></th>\n",
       "      <th>Rank</th>\n",
       "      <th>2022 Population</th>\n",
       "      <th>2020 Population</th>\n",
       "      <th>2015 Population</th>\n",
       "      <th>2010 Population</th>\n",
       "      <th>2000 Population</th>\n",
       "      <th>1990 Population</th>\n",
       "      <th>1980 Population</th>\n",
       "      <th>1970 Population</th>\n",
       "      <th>Area (km²)</th>\n",
       "      <th>Density (per km²)</th>\n",
       "      <th>Growth Rate</th>\n",
       "      <th>World Population Percentage</th>\n",
       "    </tr>\n",
       "  </thead>\n",
       "  <tbody>\n",
       "    <tr>\n",
       "      <th>count</th>\n",
       "      <td>234.000000</td>\n",
       "      <td>2.300000e+02</td>\n",
       "      <td>2.330000e+02</td>\n",
       "      <td>2.300000e+02</td>\n",
       "      <td>2.270000e+02</td>\n",
       "      <td>2.270000e+02</td>\n",
       "      <td>2.290000e+02</td>\n",
       "      <td>2.290000e+02</td>\n",
       "      <td>2.300000e+02</td>\n",
       "      <td>2.320000e+02</td>\n",
       "      <td>230.000000</td>\n",
       "      <td>232.000000</td>\n",
       "      <td>234.000000</td>\n",
       "    </tr>\n",
       "    <tr>\n",
       "      <th>mean</th>\n",
       "      <td>117.500000</td>\n",
       "      <td>3.463225e+07</td>\n",
       "      <td>3.360071e+07</td>\n",
       "      <td>3.206600e+07</td>\n",
       "      <td>3.027016e+07</td>\n",
       "      <td>2.684050e+07</td>\n",
       "      <td>1.933046e+07</td>\n",
       "      <td>1.628288e+07</td>\n",
       "      <td>1.586650e+07</td>\n",
       "      <td>5.816637e+05</td>\n",
       "      <td>456.811652</td>\n",
       "      <td>1.009553</td>\n",
       "      <td>0.427051</td>\n",
       "    </tr>\n",
       "    <tr>\n",
       "      <th>std</th>\n",
       "      <td>67.694165</td>\n",
       "      <td>1.378892e+08</td>\n",
       "      <td>1.358732e+08</td>\n",
       "      <td>1.315071e+08</td>\n",
       "      <td>1.260742e+08</td>\n",
       "      <td>1.133525e+08</td>\n",
       "      <td>8.130962e+07</td>\n",
       "      <td>6.934547e+07</td>\n",
       "      <td>6.835586e+07</td>\n",
       "      <td>1.769133e+06</td>\n",
       "      <td>2083.740364</td>\n",
       "      <td>0.013390</td>\n",
       "      <td>1.714977</td>\n",
       "    </tr>\n",
       "    <tr>\n",
       "      <th>min</th>\n",
       "      <td>1.000000</td>\n",
       "      <td>5.100000e+02</td>\n",
       "      <td>5.200000e+02</td>\n",
       "      <td>5.640000e+02</td>\n",
       "      <td>5.960000e+02</td>\n",
       "      <td>6.510000e+02</td>\n",
       "      <td>7.000000e+02</td>\n",
       "      <td>7.330000e+02</td>\n",
       "      <td>7.520000e+02</td>\n",
       "      <td>1.000000e+00</td>\n",
       "      <td>0.026100</td>\n",
       "      <td>0.912000</td>\n",
       "      <td>0.000000</td>\n",
       "    </tr>\n",
       "    <tr>\n",
       "      <th>25%</th>\n",
       "      <td>59.250000</td>\n",
       "      <td>4.197385e+05</td>\n",
       "      <td>4.064710e+05</td>\n",
       "      <td>3.942950e+05</td>\n",
       "      <td>3.827265e+05</td>\n",
       "      <td>3.294700e+05</td>\n",
       "      <td>2.619280e+05</td>\n",
       "      <td>2.237520e+05</td>\n",
       "      <td>1.458805e+05</td>\n",
       "      <td>2.567250e+03</td>\n",
       "      <td>36.598125</td>\n",
       "      <td>1.001925</td>\n",
       "      <td>0.010000</td>\n",
       "    </tr>\n",
       "    <tr>\n",
       "      <th>50%</th>\n",
       "      <td>117.500000</td>\n",
       "      <td>5.762857e+06</td>\n",
       "      <td>5.456681e+06</td>\n",
       "      <td>5.244415e+06</td>\n",
       "      <td>4.889741e+06</td>\n",
       "      <td>4.491202e+06</td>\n",
       "      <td>3.785847e+06</td>\n",
       "      <td>3.135123e+06</td>\n",
       "      <td>2.511718e+06</td>\n",
       "      <td>7.714100e+04</td>\n",
       "      <td>95.346750</td>\n",
       "      <td>1.007900</td>\n",
       "      <td>0.070000</td>\n",
       "    </tr>\n",
       "    <tr>\n",
       "      <th>75%</th>\n",
       "      <td>175.750000</td>\n",
       "      <td>2.265372e+07</td>\n",
       "      <td>2.152263e+07</td>\n",
       "      <td>1.973085e+07</td>\n",
       "      <td>1.682585e+07</td>\n",
       "      <td>1.562547e+07</td>\n",
       "      <td>1.188276e+07</td>\n",
       "      <td>9.817257e+06</td>\n",
       "      <td>8.817329e+06</td>\n",
       "      <td>4.146432e+05</td>\n",
       "      <td>236.884000</td>\n",
       "      <td>1.016650</td>\n",
       "      <td>0.280000</td>\n",
       "    </tr>\n",
       "    <tr>\n",
       "      <th>max</th>\n",
       "      <td>234.000000</td>\n",
       "      <td>1.425887e+09</td>\n",
       "      <td>1.424930e+09</td>\n",
       "      <td>1.393715e+09</td>\n",
       "      <td>1.348191e+09</td>\n",
       "      <td>1.264099e+09</td>\n",
       "      <td>1.153704e+09</td>\n",
       "      <td>9.823725e+08</td>\n",
       "      <td>8.225344e+08</td>\n",
       "      <td>1.709824e+07</td>\n",
       "      <td>23172.266700</td>\n",
       "      <td>1.069100</td>\n",
       "      <td>17.880000</td>\n",
       "    </tr>\n",
       "  </tbody>\n",
       "</table>\n",
       "</div>"
      ],
      "text/plain": [
       "             Rank  2022 Population  2020 Population  2015 Population  \\\n",
       "count  234.000000     2.300000e+02     2.330000e+02     2.300000e+02   \n",
       "mean   117.500000     3.463225e+07     3.360071e+07     3.206600e+07   \n",
       "std     67.694165     1.378892e+08     1.358732e+08     1.315071e+08   \n",
       "min      1.000000     5.100000e+02     5.200000e+02     5.640000e+02   \n",
       "25%     59.250000     4.197385e+05     4.064710e+05     3.942950e+05   \n",
       "50%    117.500000     5.762857e+06     5.456681e+06     5.244415e+06   \n",
       "75%    175.750000     2.265372e+07     2.152263e+07     1.973085e+07   \n",
       "max    234.000000     1.425887e+09     1.424930e+09     1.393715e+09   \n",
       "\n",
       "       2010 Population  2000 Population  1990 Population  1980 Population  \\\n",
       "count     2.270000e+02     2.270000e+02     2.290000e+02     2.290000e+02   \n",
       "mean      3.027016e+07     2.684050e+07     1.933046e+07     1.628288e+07   \n",
       "std       1.260742e+08     1.133525e+08     8.130962e+07     6.934547e+07   \n",
       "min       5.960000e+02     6.510000e+02     7.000000e+02     7.330000e+02   \n",
       "25%       3.827265e+05     3.294700e+05     2.619280e+05     2.237520e+05   \n",
       "50%       4.889741e+06     4.491202e+06     3.785847e+06     3.135123e+06   \n",
       "75%       1.682585e+07     1.562547e+07     1.188276e+07     9.817257e+06   \n",
       "max       1.348191e+09     1.264099e+09     1.153704e+09     9.823725e+08   \n",
       "\n",
       "       1970 Population    Area (km²)  Density (per km²)  Growth Rate  \\\n",
       "count     2.300000e+02  2.320000e+02         230.000000   232.000000   \n",
       "mean      1.586650e+07  5.816637e+05         456.811652     1.009553   \n",
       "std       6.835586e+07  1.769133e+06        2083.740364     0.013390   \n",
       "min       7.520000e+02  1.000000e+00           0.026100     0.912000   \n",
       "25%       1.458805e+05  2.567250e+03          36.598125     1.001925   \n",
       "50%       2.511718e+06  7.714100e+04          95.346750     1.007900   \n",
       "75%       8.817329e+06  4.146432e+05         236.884000     1.016650   \n",
       "max       8.225344e+08  1.709824e+07       23172.266700     1.069100   \n",
       "\n",
       "       World Population Percentage  \n",
       "count                   234.000000  \n",
       "mean                      0.427051  \n",
       "std                       1.714977  \n",
       "min                       0.000000  \n",
       "25%                       0.010000  \n",
       "50%                       0.070000  \n",
       "75%                       0.280000  \n",
       "max                      17.880000  "
      ]
     },
     "execution_count": 15,
     "metadata": {},
     "output_type": "execute_result"
    }
   ],
   "source": [
    "df.describe()"
   ]
  },
  {
   "cell_type": "markdown",
   "metadata": {},
   "source": [
    "#### Check missing value"
   ]
  },
  {
   "cell_type": "code",
   "execution_count": 16,
   "metadata": {},
   "outputs": [
    {
     "data": {
      "text/plain": [
       "Rank                           0\n",
       "CCA3                           0\n",
       "Country                        0\n",
       "Capital                        0\n",
       "Continent                      0\n",
       "2022 Population                4\n",
       "2020 Population                1\n",
       "2015 Population                4\n",
       "2010 Population                7\n",
       "2000 Population                7\n",
       "1990 Population                5\n",
       "1980 Population                5\n",
       "1970 Population                4\n",
       "Area (km²)                     2\n",
       "Density (per km²)              4\n",
       "Growth Rate                    2\n",
       "World Population Percentage    0\n",
       "dtype: int64"
      ]
     },
     "execution_count": 16,
     "metadata": {},
     "output_type": "execute_result"
    }
   ],
   "source": [
    "df.isnull().sum() "
   ]
  },
  {
   "cell_type": "code",
   "execution_count": null,
   "metadata": {},
   "outputs": [],
   "source": [
    "df[df[\"2000 Population\"].isnull()]"
   ]
  },
  {
   "cell_type": "markdown",
   "metadata": {},
   "source": [
    "#### Unique value for each column"
   ]
  },
  {
   "cell_type": "code",
   "execution_count": null,
   "metadata": {},
   "outputs": [],
   "source": [
    "for i in df.columns:\n",
    "    print(df[i].unique)"
   ]
  },
  {
   "cell_type": "code",
   "execution_count": null,
   "metadata": {},
   "outputs": [],
   "source": [
    "df['Continent'].unique()"
   ]
  },
  {
   "cell_type": "markdown",
   "metadata": {},
   "source": [
    "#### Filtering"
   ]
  },
  {
   "cell_type": "code",
   "execution_count": 18,
   "metadata": {},
   "outputs": [
    {
     "data": {
      "text/html": [
       "<div>\n",
       "<style scoped>\n",
       "    .dataframe tbody tr th:only-of-type {\n",
       "        vertical-align: middle;\n",
       "    }\n",
       "\n",
       "    .dataframe tbody tr th {\n",
       "        vertical-align: top;\n",
       "    }\n",
       "\n",
       "    .dataframe thead th {\n",
       "        text-align: right;\n",
       "    }\n",
       "</style>\n",
       "<table border=\"1\" class=\"dataframe\">\n",
       "  <thead>\n",
       "    <tr style=\"text-align: right;\">\n",
       "      <th></th>\n",
       "      <th>Rank</th>\n",
       "      <th>CCA3</th>\n",
       "      <th>Country</th>\n",
       "      <th>Capital</th>\n",
       "      <th>Continent</th>\n",
       "      <th>2022 Population</th>\n",
       "      <th>2020 Population</th>\n",
       "      <th>2015 Population</th>\n",
       "      <th>2010 Population</th>\n",
       "      <th>2000 Population</th>\n",
       "      <th>1990 Population</th>\n",
       "      <th>1980 Population</th>\n",
       "      <th>1970 Population</th>\n",
       "      <th>Area (km²)</th>\n",
       "      <th>Density (per km²)</th>\n",
       "      <th>Growth Rate</th>\n",
       "      <th>World Population Percentage</th>\n",
       "    </tr>\n",
       "  </thead>\n",
       "  <tbody>\n",
       "    <tr>\n",
       "      <th>16</th>\n",
       "      <td>8</td>\n",
       "      <td>BGD</td>\n",
       "      <td>Bangladesh</td>\n",
       "      <td>Dhaka</td>\n",
       "      <td>Asia</td>\n",
       "      <td>1.711864e+08</td>\n",
       "      <td>1.674210e+08</td>\n",
       "      <td>1.578300e+08</td>\n",
       "      <td>1.483911e+08</td>\n",
       "      <td>1.291933e+08</td>\n",
       "      <td>1.071477e+08</td>\n",
       "      <td>83929765.0</td>\n",
       "      <td>67541860.0</td>\n",
       "      <td>147570.0</td>\n",
       "      <td>1160.0350</td>\n",
       "      <td>1.0108</td>\n",
       "      <td>2.15</td>\n",
       "    </tr>\n",
       "    <tr>\n",
       "      <th>27</th>\n",
       "      <td>7</td>\n",
       "      <td>BRA</td>\n",
       "      <td>Brazil</td>\n",
       "      <td>Brasilia</td>\n",
       "      <td>South America</td>\n",
       "      <td>2.153135e+08</td>\n",
       "      <td>2.131963e+08</td>\n",
       "      <td>2.051882e+08</td>\n",
       "      <td>1.963535e+08</td>\n",
       "      <td>1.758737e+08</td>\n",
       "      <td>1.507064e+08</td>\n",
       "      <td>122288383.0</td>\n",
       "      <td>96369875.0</td>\n",
       "      <td>8515767.0</td>\n",
       "      <td>25.2841</td>\n",
       "      <td>1.0046</td>\n",
       "      <td>2.70</td>\n",
       "    </tr>\n",
       "    <tr>\n",
       "      <th>41</th>\n",
       "      <td>1</td>\n",
       "      <td>CHN</td>\n",
       "      <td>China</td>\n",
       "      <td>Beijing</td>\n",
       "      <td>Asia</td>\n",
       "      <td>1.425887e+09</td>\n",
       "      <td>1.424930e+09</td>\n",
       "      <td>1.393715e+09</td>\n",
       "      <td>1.348191e+09</td>\n",
       "      <td>1.264099e+09</td>\n",
       "      <td>1.153704e+09</td>\n",
       "      <td>982372466.0</td>\n",
       "      <td>822534450.0</td>\n",
       "      <td>9706961.0</td>\n",
       "      <td>146.8933</td>\n",
       "      <td>1.0000</td>\n",
       "      <td>17.88</td>\n",
       "    </tr>\n",
       "    <tr>\n",
       "      <th>92</th>\n",
       "      <td>2</td>\n",
       "      <td>IND</td>\n",
       "      <td>India</td>\n",
       "      <td>New Delhi</td>\n",
       "      <td>Asia</td>\n",
       "      <td>1.417173e+09</td>\n",
       "      <td>1.396387e+09</td>\n",
       "      <td>1.322867e+09</td>\n",
       "      <td>1.240614e+09</td>\n",
       "      <td>1.059634e+09</td>\n",
       "      <td>NaN</td>\n",
       "      <td>NaN</td>\n",
       "      <td>557501301.0</td>\n",
       "      <td>3287590.0</td>\n",
       "      <td>431.0675</td>\n",
       "      <td>1.0068</td>\n",
       "      <td>17.77</td>\n",
       "    </tr>\n",
       "    <tr>\n",
       "      <th>93</th>\n",
       "      <td>4</td>\n",
       "      <td>IDN</td>\n",
       "      <td>Indonesia</td>\n",
       "      <td>Jakarta</td>\n",
       "      <td>Asia</td>\n",
       "      <td>2.755013e+08</td>\n",
       "      <td>2.718580e+08</td>\n",
       "      <td>2.590920e+08</td>\n",
       "      <td>2.440162e+08</td>\n",
       "      <td>2.140724e+08</td>\n",
       "      <td>1.821599e+08</td>\n",
       "      <td>148177096.0</td>\n",
       "      <td>115228394.0</td>\n",
       "      <td>1904569.0</td>\n",
       "      <td>144.6529</td>\n",
       "      <td>1.0064</td>\n",
       "      <td>3.45</td>\n",
       "    </tr>\n",
       "    <tr>\n",
       "      <th>149</th>\n",
       "      <td>6</td>\n",
       "      <td>NGA</td>\n",
       "      <td>Nigeria</td>\n",
       "      <td>Abuja</td>\n",
       "      <td>Africa</td>\n",
       "      <td>2.185412e+08</td>\n",
       "      <td>2.083274e+08</td>\n",
       "      <td>1.839958e+08</td>\n",
       "      <td>1.609529e+08</td>\n",
       "      <td>1.228520e+08</td>\n",
       "      <td>9.521426e+07</td>\n",
       "      <td>72951439.0</td>\n",
       "      <td>55569264.0</td>\n",
       "      <td>923768.0</td>\n",
       "      <td>236.5759</td>\n",
       "      <td>1.0241</td>\n",
       "      <td>2.74</td>\n",
       "    </tr>\n",
       "    <tr>\n",
       "      <th>156</th>\n",
       "      <td>5</td>\n",
       "      <td>PAK</td>\n",
       "      <td>Pakistan</td>\n",
       "      <td>Islamabad</td>\n",
       "      <td>Asia</td>\n",
       "      <td>2.358249e+08</td>\n",
       "      <td>2.271967e+08</td>\n",
       "      <td>2.109693e+08</td>\n",
       "      <td>1.944545e+08</td>\n",
       "      <td>1.543699e+08</td>\n",
       "      <td>1.154141e+08</td>\n",
       "      <td>80624057.0</td>\n",
       "      <td>59290872.0</td>\n",
       "      <td>881912.0</td>\n",
       "      <td>267.4018</td>\n",
       "      <td>1.0191</td>\n",
       "      <td>2.96</td>\n",
       "    </tr>\n",
       "    <tr>\n",
       "      <th>171</th>\n",
       "      <td>9</td>\n",
       "      <td>RUS</td>\n",
       "      <td>Russia</td>\n",
       "      <td>Moscow</td>\n",
       "      <td>Europe</td>\n",
       "      <td>1.447133e+08</td>\n",
       "      <td>1.456173e+08</td>\n",
       "      <td>1.446684e+08</td>\n",
       "      <td>1.432426e+08</td>\n",
       "      <td>1.468448e+08</td>\n",
       "      <td>1.480057e+08</td>\n",
       "      <td>138257420.0</td>\n",
       "      <td>130093010.0</td>\n",
       "      <td>17098242.0</td>\n",
       "      <td>8.4636</td>\n",
       "      <td>0.9973</td>\n",
       "      <td>1.81</td>\n",
       "    </tr>\n",
       "    <tr>\n",
       "      <th>221</th>\n",
       "      <td>3</td>\n",
       "      <td>USA</td>\n",
       "      <td>United States</td>\n",
       "      <td>Washington, D.C.</td>\n",
       "      <td>North America</td>\n",
       "      <td>3.382899e+08</td>\n",
       "      <td>3.359420e+08</td>\n",
       "      <td>3.246078e+08</td>\n",
       "      <td>3.111828e+08</td>\n",
       "      <td>2.823986e+08</td>\n",
       "      <td>2.480837e+08</td>\n",
       "      <td>223140018.0</td>\n",
       "      <td>200328340.0</td>\n",
       "      <td>9372610.0</td>\n",
       "      <td>36.0935</td>\n",
       "      <td>1.0038</td>\n",
       "      <td>4.24</td>\n",
       "    </tr>\n",
       "  </tbody>\n",
       "</table>\n",
       "</div>"
      ],
      "text/plain": [
       "     Rank CCA3        Country           Capital      Continent  \\\n",
       "16      8  BGD     Bangladesh             Dhaka           Asia   \n",
       "27      7  BRA         Brazil          Brasilia  South America   \n",
       "41      1  CHN          China           Beijing           Asia   \n",
       "92      2  IND          India         New Delhi           Asia   \n",
       "93      4  IDN      Indonesia           Jakarta           Asia   \n",
       "149     6  NGA        Nigeria             Abuja         Africa   \n",
       "156     5  PAK       Pakistan         Islamabad           Asia   \n",
       "171     9  RUS         Russia            Moscow         Europe   \n",
       "221     3  USA  United States  Washington, D.C.  North America   \n",
       "\n",
       "     2022 Population  2020 Population  2015 Population  2010 Population  \\\n",
       "16      1.711864e+08     1.674210e+08     1.578300e+08     1.483911e+08   \n",
       "27      2.153135e+08     2.131963e+08     2.051882e+08     1.963535e+08   \n",
       "41      1.425887e+09     1.424930e+09     1.393715e+09     1.348191e+09   \n",
       "92      1.417173e+09     1.396387e+09     1.322867e+09     1.240614e+09   \n",
       "93      2.755013e+08     2.718580e+08     2.590920e+08     2.440162e+08   \n",
       "149     2.185412e+08     2.083274e+08     1.839958e+08     1.609529e+08   \n",
       "156     2.358249e+08     2.271967e+08     2.109693e+08     1.944545e+08   \n",
       "171     1.447133e+08     1.456173e+08     1.446684e+08     1.432426e+08   \n",
       "221     3.382899e+08     3.359420e+08     3.246078e+08     3.111828e+08   \n",
       "\n",
       "     2000 Population  1990 Population  1980 Population  1970 Population  \\\n",
       "16      1.291933e+08     1.071477e+08       83929765.0       67541860.0   \n",
       "27      1.758737e+08     1.507064e+08      122288383.0       96369875.0   \n",
       "41      1.264099e+09     1.153704e+09      982372466.0      822534450.0   \n",
       "92      1.059634e+09              NaN              NaN      557501301.0   \n",
       "93      2.140724e+08     1.821599e+08      148177096.0      115228394.0   \n",
       "149     1.228520e+08     9.521426e+07       72951439.0       55569264.0   \n",
       "156     1.543699e+08     1.154141e+08       80624057.0       59290872.0   \n",
       "171     1.468448e+08     1.480057e+08      138257420.0      130093010.0   \n",
       "221     2.823986e+08     2.480837e+08      223140018.0      200328340.0   \n",
       "\n",
       "     Area (km²)  Density (per km²)  Growth Rate  World Population Percentage  \n",
       "16     147570.0          1160.0350       1.0108                         2.15  \n",
       "27    8515767.0            25.2841       1.0046                         2.70  \n",
       "41    9706961.0           146.8933       1.0000                        17.88  \n",
       "92    3287590.0           431.0675       1.0068                        17.77  \n",
       "93    1904569.0           144.6529       1.0064                         3.45  \n",
       "149    923768.0           236.5759       1.0241                         2.74  \n",
       "156    881912.0           267.4018       1.0191                         2.96  \n",
       "171  17098242.0             8.4636       0.9973                         1.81  \n",
       "221   9372610.0            36.0935       1.0038                         4.24  "
      ]
     },
     "execution_count": 18,
     "metadata": {},
     "output_type": "execute_result"
    }
   ],
   "source": [
    "df[df[\"Rank\"] < 10]"
   ]
  },
  {
   "cell_type": "code",
   "execution_count": 19,
   "metadata": {},
   "outputs": [
    {
     "data": {
      "text/html": [
       "<div>\n",
       "<style scoped>\n",
       "    .dataframe tbody tr th:only-of-type {\n",
       "        vertical-align: middle;\n",
       "    }\n",
       "\n",
       "    .dataframe tbody tr th {\n",
       "        vertical-align: top;\n",
       "    }\n",
       "\n",
       "    .dataframe thead th {\n",
       "        text-align: right;\n",
       "    }\n",
       "</style>\n",
       "<table border=\"1\" class=\"dataframe\">\n",
       "  <thead>\n",
       "    <tr style=\"text-align: right;\">\n",
       "      <th></th>\n",
       "      <th>Rank</th>\n",
       "      <th>CCA3</th>\n",
       "      <th>Country</th>\n",
       "      <th>Capital</th>\n",
       "      <th>Continent</th>\n",
       "      <th>2022 Population</th>\n",
       "      <th>2020 Population</th>\n",
       "      <th>2015 Population</th>\n",
       "      <th>2010 Population</th>\n",
       "      <th>2000 Population</th>\n",
       "      <th>1990 Population</th>\n",
       "      <th>1980 Population</th>\n",
       "      <th>1970 Population</th>\n",
       "      <th>Area (km²)</th>\n",
       "      <th>Density (per km²)</th>\n",
       "      <th>Growth Rate</th>\n",
       "      <th>World Population Percentage</th>\n",
       "    </tr>\n",
       "  </thead>\n",
       "  <tbody>\n",
       "    <tr>\n",
       "      <th>16</th>\n",
       "      <td>8</td>\n",
       "      <td>BGD</td>\n",
       "      <td>Bangladesh</td>\n",
       "      <td>Dhaka</td>\n",
       "      <td>Asia</td>\n",
       "      <td>1.711864e+08</td>\n",
       "      <td>1.674210e+08</td>\n",
       "      <td>1.578300e+08</td>\n",
       "      <td>1.483911e+08</td>\n",
       "      <td>1.291933e+08</td>\n",
       "      <td>1.071477e+08</td>\n",
       "      <td>83929765.0</td>\n",
       "      <td>67541860.0</td>\n",
       "      <td>147570.0</td>\n",
       "      <td>1160.0350</td>\n",
       "      <td>1.0108</td>\n",
       "      <td>2.15</td>\n",
       "    </tr>\n",
       "    <tr>\n",
       "      <th>41</th>\n",
       "      <td>1</td>\n",
       "      <td>CHN</td>\n",
       "      <td>China</td>\n",
       "      <td>Beijing</td>\n",
       "      <td>Asia</td>\n",
       "      <td>1.425887e+09</td>\n",
       "      <td>1.424930e+09</td>\n",
       "      <td>1.393715e+09</td>\n",
       "      <td>1.348191e+09</td>\n",
       "      <td>1.264099e+09</td>\n",
       "      <td>1.153704e+09</td>\n",
       "      <td>982372466.0</td>\n",
       "      <td>822534450.0</td>\n",
       "      <td>9706961.0</td>\n",
       "      <td>146.8933</td>\n",
       "      <td>1.0000</td>\n",
       "      <td>17.88</td>\n",
       "    </tr>\n",
       "    <tr>\n",
       "      <th>92</th>\n",
       "      <td>2</td>\n",
       "      <td>IND</td>\n",
       "      <td>India</td>\n",
       "      <td>New Delhi</td>\n",
       "      <td>Asia</td>\n",
       "      <td>1.417173e+09</td>\n",
       "      <td>1.396387e+09</td>\n",
       "      <td>1.322867e+09</td>\n",
       "      <td>1.240614e+09</td>\n",
       "      <td>1.059634e+09</td>\n",
       "      <td>NaN</td>\n",
       "      <td>NaN</td>\n",
       "      <td>557501301.0</td>\n",
       "      <td>3287590.0</td>\n",
       "      <td>431.0675</td>\n",
       "      <td>1.0068</td>\n",
       "      <td>17.77</td>\n",
       "    </tr>\n",
       "    <tr>\n",
       "      <th>93</th>\n",
       "      <td>4</td>\n",
       "      <td>IDN</td>\n",
       "      <td>Indonesia</td>\n",
       "      <td>Jakarta</td>\n",
       "      <td>Asia</td>\n",
       "      <td>2.755013e+08</td>\n",
       "      <td>2.718580e+08</td>\n",
       "      <td>2.590920e+08</td>\n",
       "      <td>2.440162e+08</td>\n",
       "      <td>2.140724e+08</td>\n",
       "      <td>1.821599e+08</td>\n",
       "      <td>148177096.0</td>\n",
       "      <td>115228394.0</td>\n",
       "      <td>1904569.0</td>\n",
       "      <td>144.6529</td>\n",
       "      <td>1.0064</td>\n",
       "      <td>3.45</td>\n",
       "    </tr>\n",
       "    <tr>\n",
       "      <th>156</th>\n",
       "      <td>5</td>\n",
       "      <td>PAK</td>\n",
       "      <td>Pakistan</td>\n",
       "      <td>Islamabad</td>\n",
       "      <td>Asia</td>\n",
       "      <td>2.358249e+08</td>\n",
       "      <td>2.271967e+08</td>\n",
       "      <td>2.109693e+08</td>\n",
       "      <td>1.944545e+08</td>\n",
       "      <td>1.543699e+08</td>\n",
       "      <td>1.154141e+08</td>\n",
       "      <td>80624057.0</td>\n",
       "      <td>59290872.0</td>\n",
       "      <td>881912.0</td>\n",
       "      <td>267.4018</td>\n",
       "      <td>1.0191</td>\n",
       "      <td>2.96</td>\n",
       "    </tr>\n",
       "  </tbody>\n",
       "</table>\n",
       "</div>"
      ],
      "text/plain": [
       "     Rank CCA3     Country    Capital Continent  2022 Population  \\\n",
       "16      8  BGD  Bangladesh      Dhaka      Asia     1.711864e+08   \n",
       "41      1  CHN       China    Beijing      Asia     1.425887e+09   \n",
       "92      2  IND       India  New Delhi      Asia     1.417173e+09   \n",
       "93      4  IDN   Indonesia    Jakarta      Asia     2.755013e+08   \n",
       "156     5  PAK    Pakistan  Islamabad      Asia     2.358249e+08   \n",
       "\n",
       "     2020 Population  2015 Population  2010 Population  2000 Population  \\\n",
       "16      1.674210e+08     1.578300e+08     1.483911e+08     1.291933e+08   \n",
       "41      1.424930e+09     1.393715e+09     1.348191e+09     1.264099e+09   \n",
       "92      1.396387e+09     1.322867e+09     1.240614e+09     1.059634e+09   \n",
       "93      2.718580e+08     2.590920e+08     2.440162e+08     2.140724e+08   \n",
       "156     2.271967e+08     2.109693e+08     1.944545e+08     1.543699e+08   \n",
       "\n",
       "     1990 Population  1980 Population  1970 Population  Area (km²)  \\\n",
       "16      1.071477e+08       83929765.0       67541860.0    147570.0   \n",
       "41      1.153704e+09      982372466.0      822534450.0   9706961.0   \n",
       "92               NaN              NaN      557501301.0   3287590.0   \n",
       "93      1.821599e+08      148177096.0      115228394.0   1904569.0   \n",
       "156     1.154141e+08       80624057.0       59290872.0    881912.0   \n",
       "\n",
       "     Density (per km²)  Growth Rate  World Population Percentage  \n",
       "16           1160.0350       1.0108                         2.15  \n",
       "41            146.8933       1.0000                        17.88  \n",
       "92            431.0675       1.0068                        17.77  \n",
       "93            144.6529       1.0064                         3.45  \n",
       "156           267.4018       1.0191                         2.96  "
      ]
     },
     "execution_count": 19,
     "metadata": {},
     "output_type": "execute_result"
    }
   ],
   "source": [
    "df[(df[\"Rank\"] < 10) & (df[\"Continent\"] == \"Asia\")]"
   ]
  },
  {
   "cell_type": "code",
   "execution_count": 20,
   "metadata": {},
   "outputs": [
    {
     "data": {
      "text/html": [
       "<div>\n",
       "<style scoped>\n",
       "    .dataframe tbody tr th:only-of-type {\n",
       "        vertical-align: middle;\n",
       "    }\n",
       "\n",
       "    .dataframe tbody tr th {\n",
       "        vertical-align: top;\n",
       "    }\n",
       "\n",
       "    .dataframe thead th {\n",
       "        text-align: right;\n",
       "    }\n",
       "</style>\n",
       "<table border=\"1\" class=\"dataframe\">\n",
       "  <thead>\n",
       "    <tr style=\"text-align: right;\">\n",
       "      <th></th>\n",
       "      <th>Rank</th>\n",
       "      <th>CCA3</th>\n",
       "      <th>Country</th>\n",
       "      <th>Capital</th>\n",
       "      <th>Continent</th>\n",
       "      <th>2022 Population</th>\n",
       "      <th>2020 Population</th>\n",
       "      <th>2015 Population</th>\n",
       "      <th>2010 Population</th>\n",
       "      <th>2000 Population</th>\n",
       "      <th>1990 Population</th>\n",
       "      <th>1980 Population</th>\n",
       "      <th>1970 Population</th>\n",
       "      <th>Area (km²)</th>\n",
       "      <th>Density (per km²)</th>\n",
       "      <th>Growth Rate</th>\n",
       "      <th>World Population Percentage</th>\n",
       "    </tr>\n",
       "  </thead>\n",
       "  <tbody>\n",
       "    <tr>\n",
       "      <th>41</th>\n",
       "      <td>1</td>\n",
       "      <td>CHN</td>\n",
       "      <td>China</td>\n",
       "      <td>Beijing</td>\n",
       "      <td>Asia</td>\n",
       "      <td>1.425887e+09</td>\n",
       "      <td>1.424930e+09</td>\n",
       "      <td>1.393715e+09</td>\n",
       "      <td>1.348191e+09</td>\n",
       "      <td>1.264099e+09</td>\n",
       "      <td>1.153704e+09</td>\n",
       "      <td>982372466.0</td>\n",
       "      <td>822534450.0</td>\n",
       "      <td>9706961.0</td>\n",
       "      <td>146.8933</td>\n",
       "      <td>1.0000</td>\n",
       "      <td>17.88</td>\n",
       "    </tr>\n",
       "    <tr>\n",
       "      <th>92</th>\n",
       "      <td>2</td>\n",
       "      <td>IND</td>\n",
       "      <td>India</td>\n",
       "      <td>New Delhi</td>\n",
       "      <td>Asia</td>\n",
       "      <td>1.417173e+09</td>\n",
       "      <td>1.396387e+09</td>\n",
       "      <td>1.322867e+09</td>\n",
       "      <td>1.240614e+09</td>\n",
       "      <td>1.059634e+09</td>\n",
       "      <td>NaN</td>\n",
       "      <td>NaN</td>\n",
       "      <td>557501301.0</td>\n",
       "      <td>3287590.0</td>\n",
       "      <td>431.0675</td>\n",
       "      <td>1.0068</td>\n",
       "      <td>17.77</td>\n",
       "    </tr>\n",
       "    <tr>\n",
       "      <th>221</th>\n",
       "      <td>3</td>\n",
       "      <td>USA</td>\n",
       "      <td>United States</td>\n",
       "      <td>Washington, D.C.</td>\n",
       "      <td>North America</td>\n",
       "      <td>3.382899e+08</td>\n",
       "      <td>3.359420e+08</td>\n",
       "      <td>3.246078e+08</td>\n",
       "      <td>3.111828e+08</td>\n",
       "      <td>2.823986e+08</td>\n",
       "      <td>2.480837e+08</td>\n",
       "      <td>223140018.0</td>\n",
       "      <td>200328340.0</td>\n",
       "      <td>9372610.0</td>\n",
       "      <td>36.0935</td>\n",
       "      <td>1.0038</td>\n",
       "      <td>4.24</td>\n",
       "    </tr>\n",
       "    <tr>\n",
       "      <th>93</th>\n",
       "      <td>4</td>\n",
       "      <td>IDN</td>\n",
       "      <td>Indonesia</td>\n",
       "      <td>Jakarta</td>\n",
       "      <td>Asia</td>\n",
       "      <td>2.755013e+08</td>\n",
       "      <td>2.718580e+08</td>\n",
       "      <td>2.590920e+08</td>\n",
       "      <td>2.440162e+08</td>\n",
       "      <td>2.140724e+08</td>\n",
       "      <td>1.821599e+08</td>\n",
       "      <td>148177096.0</td>\n",
       "      <td>115228394.0</td>\n",
       "      <td>1904569.0</td>\n",
       "      <td>144.6529</td>\n",
       "      <td>1.0064</td>\n",
       "      <td>3.45</td>\n",
       "    </tr>\n",
       "    <tr>\n",
       "      <th>156</th>\n",
       "      <td>5</td>\n",
       "      <td>PAK</td>\n",
       "      <td>Pakistan</td>\n",
       "      <td>Islamabad</td>\n",
       "      <td>Asia</td>\n",
       "      <td>2.358249e+08</td>\n",
       "      <td>2.271967e+08</td>\n",
       "      <td>2.109693e+08</td>\n",
       "      <td>1.944545e+08</td>\n",
       "      <td>1.543699e+08</td>\n",
       "      <td>1.154141e+08</td>\n",
       "      <td>80624057.0</td>\n",
       "      <td>59290872.0</td>\n",
       "      <td>881912.0</td>\n",
       "      <td>267.4018</td>\n",
       "      <td>1.0191</td>\n",
       "      <td>2.96</td>\n",
       "    </tr>\n",
       "    <tr>\n",
       "      <th>149</th>\n",
       "      <td>6</td>\n",
       "      <td>NGA</td>\n",
       "      <td>Nigeria</td>\n",
       "      <td>Abuja</td>\n",
       "      <td>Africa</td>\n",
       "      <td>2.185412e+08</td>\n",
       "      <td>2.083274e+08</td>\n",
       "      <td>1.839958e+08</td>\n",
       "      <td>1.609529e+08</td>\n",
       "      <td>1.228520e+08</td>\n",
       "      <td>9.521426e+07</td>\n",
       "      <td>72951439.0</td>\n",
       "      <td>55569264.0</td>\n",
       "      <td>923768.0</td>\n",
       "      <td>236.5759</td>\n",
       "      <td>1.0241</td>\n",
       "      <td>2.74</td>\n",
       "    </tr>\n",
       "    <tr>\n",
       "      <th>27</th>\n",
       "      <td>7</td>\n",
       "      <td>BRA</td>\n",
       "      <td>Brazil</td>\n",
       "      <td>Brasilia</td>\n",
       "      <td>South America</td>\n",
       "      <td>2.153135e+08</td>\n",
       "      <td>2.131963e+08</td>\n",
       "      <td>2.051882e+08</td>\n",
       "      <td>1.963535e+08</td>\n",
       "      <td>1.758737e+08</td>\n",
       "      <td>1.507064e+08</td>\n",
       "      <td>122288383.0</td>\n",
       "      <td>96369875.0</td>\n",
       "      <td>8515767.0</td>\n",
       "      <td>25.2841</td>\n",
       "      <td>1.0046</td>\n",
       "      <td>2.70</td>\n",
       "    </tr>\n",
       "    <tr>\n",
       "      <th>16</th>\n",
       "      <td>8</td>\n",
       "      <td>BGD</td>\n",
       "      <td>Bangladesh</td>\n",
       "      <td>Dhaka</td>\n",
       "      <td>Asia</td>\n",
       "      <td>1.711864e+08</td>\n",
       "      <td>1.674210e+08</td>\n",
       "      <td>1.578300e+08</td>\n",
       "      <td>1.483911e+08</td>\n",
       "      <td>1.291933e+08</td>\n",
       "      <td>1.071477e+08</td>\n",
       "      <td>83929765.0</td>\n",
       "      <td>67541860.0</td>\n",
       "      <td>147570.0</td>\n",
       "      <td>1160.0350</td>\n",
       "      <td>1.0108</td>\n",
       "      <td>2.15</td>\n",
       "    </tr>\n",
       "    <tr>\n",
       "      <th>171</th>\n",
       "      <td>9</td>\n",
       "      <td>RUS</td>\n",
       "      <td>Russia</td>\n",
       "      <td>Moscow</td>\n",
       "      <td>Europe</td>\n",
       "      <td>1.447133e+08</td>\n",
       "      <td>1.456173e+08</td>\n",
       "      <td>1.446684e+08</td>\n",
       "      <td>1.432426e+08</td>\n",
       "      <td>1.468448e+08</td>\n",
       "      <td>1.480057e+08</td>\n",
       "      <td>138257420.0</td>\n",
       "      <td>130093010.0</td>\n",
       "      <td>17098242.0</td>\n",
       "      <td>8.4636</td>\n",
       "      <td>0.9973</td>\n",
       "      <td>1.81</td>\n",
       "    </tr>\n",
       "  </tbody>\n",
       "</table>\n",
       "</div>"
      ],
      "text/plain": [
       "     Rank CCA3        Country           Capital      Continent  \\\n",
       "41      1  CHN          China           Beijing           Asia   \n",
       "92      2  IND          India         New Delhi           Asia   \n",
       "221     3  USA  United States  Washington, D.C.  North America   \n",
       "93      4  IDN      Indonesia           Jakarta           Asia   \n",
       "156     5  PAK       Pakistan         Islamabad           Asia   \n",
       "149     6  NGA        Nigeria             Abuja         Africa   \n",
       "27      7  BRA         Brazil          Brasilia  South America   \n",
       "16      8  BGD     Bangladesh             Dhaka           Asia   \n",
       "171     9  RUS         Russia            Moscow         Europe   \n",
       "\n",
       "     2022 Population  2020 Population  2015 Population  2010 Population  \\\n",
       "41      1.425887e+09     1.424930e+09     1.393715e+09     1.348191e+09   \n",
       "92      1.417173e+09     1.396387e+09     1.322867e+09     1.240614e+09   \n",
       "221     3.382899e+08     3.359420e+08     3.246078e+08     3.111828e+08   \n",
       "93      2.755013e+08     2.718580e+08     2.590920e+08     2.440162e+08   \n",
       "156     2.358249e+08     2.271967e+08     2.109693e+08     1.944545e+08   \n",
       "149     2.185412e+08     2.083274e+08     1.839958e+08     1.609529e+08   \n",
       "27      2.153135e+08     2.131963e+08     2.051882e+08     1.963535e+08   \n",
       "16      1.711864e+08     1.674210e+08     1.578300e+08     1.483911e+08   \n",
       "171     1.447133e+08     1.456173e+08     1.446684e+08     1.432426e+08   \n",
       "\n",
       "     2000 Population  1990 Population  1980 Population  1970 Population  \\\n",
       "41      1.264099e+09     1.153704e+09      982372466.0      822534450.0   \n",
       "92      1.059634e+09              NaN              NaN      557501301.0   \n",
       "221     2.823986e+08     2.480837e+08      223140018.0      200328340.0   \n",
       "93      2.140724e+08     1.821599e+08      148177096.0      115228394.0   \n",
       "156     1.543699e+08     1.154141e+08       80624057.0       59290872.0   \n",
       "149     1.228520e+08     9.521426e+07       72951439.0       55569264.0   \n",
       "27      1.758737e+08     1.507064e+08      122288383.0       96369875.0   \n",
       "16      1.291933e+08     1.071477e+08       83929765.0       67541860.0   \n",
       "171     1.468448e+08     1.480057e+08      138257420.0      130093010.0   \n",
       "\n",
       "     Area (km²)  Density (per km²)  Growth Rate  World Population Percentage  \n",
       "41    9706961.0           146.8933       1.0000                        17.88  \n",
       "92    3287590.0           431.0675       1.0068                        17.77  \n",
       "221   9372610.0            36.0935       1.0038                         4.24  \n",
       "93    1904569.0           144.6529       1.0064                         3.45  \n",
       "156    881912.0           267.4018       1.0191                         2.96  \n",
       "149    923768.0           236.5759       1.0241                         2.74  \n",
       "27    8515767.0            25.2841       1.0046                         2.70  \n",
       "16     147570.0          1160.0350       1.0108                         2.15  \n",
       "171  17098242.0             8.4636       0.9973                         1.81  "
      ]
     },
     "execution_count": 20,
     "metadata": {},
     "output_type": "execute_result"
    }
   ],
   "source": [
    "df[df[\"Rank\"] < 10].sort_values(\"Rank\", ascending=True)"
   ]
  },
  {
   "cell_type": "code",
   "execution_count": null,
   "metadata": {},
   "outputs": [],
   "source": [
    "df[(df[\"Country\"] == \"Bangladesh\") | (df[\"Country\"] == \"Brazil\")]"
   ]
  },
  {
   "cell_type": "code",
   "execution_count": null,
   "metadata": {},
   "outputs": [],
   "source": [
    "specific_countries = [\"Bangladesh\", \"Pakistan\"]\n",
    "df[df[\"Country\"].isin(specific_countries)]"
   ]
  },
  {
   "cell_type": "code",
   "execution_count": null,
   "metadata": {},
   "outputs": [],
   "source": [
    "df[df[\"Country\"].str.contains(\"Island\")]"
   ]
  },
  {
   "cell_type": "markdown",
   "metadata": {},
   "source": [
    "#### Groupby"
   ]
  },
  {
   "cell_type": "code",
   "execution_count": 24,
   "metadata": {},
   "outputs": [
    {
     "data": {
      "text/plain": [
       "Continent\n",
       "Africa           57\n",
       "Asia             50\n",
       "Europe           50\n",
       "North America    40\n",
       "Oceania          23\n",
       "South America    14\n",
       "Name: Country, dtype: int64"
      ]
     },
     "execution_count": 24,
     "metadata": {},
     "output_type": "execute_result"
    }
   ],
   "source": [
    "df.groupby(\"Continent\")[\"Country\"].count()"
   ]
  },
  {
   "cell_type": "code",
   "execution_count": 35,
   "metadata": {},
   "outputs": [
    {
     "data": {
      "text/plain": [
       "Continent\n",
       "Africa           5.378793e+05\n",
       "Asia             6.427628e+05\n",
       "Europe           4.602082e+05\n",
       "North America    6.061044e+05\n",
       "Oceania          3.702209e+05\n",
       "South America    1.301303e+06\n",
       "Name: Area (km²), dtype: float64"
      ]
     },
     "execution_count": 35,
     "metadata": {},
     "output_type": "execute_result"
    }
   ],
   "source": [
    "df.groupby(\"Continent\")[\"Area (km²)\"].mean()"
   ]
  },
  {
   "cell_type": "code",
   "execution_count": null,
   "metadata": {},
   "outputs": [],
   "source": [
    "df.groupby(\"Continent\").mean(numeric_only=True)"
   ]
  },
  {
   "cell_type": "code",
   "execution_count": null,
   "metadata": {},
   "outputs": [],
   "source": [
    "df.groupby(\"Continent\").count()"
   ]
  },
  {
   "cell_type": "code",
   "execution_count": null,
   "metadata": {},
   "outputs": [],
   "source": [
    "df.value_counts(\"Continent\")"
   ]
  },
  {
   "cell_type": "markdown",
   "metadata": {},
   "source": [
    "#### Drop missing value"
   ]
  },
  {
   "cell_type": "code",
   "execution_count": null,
   "metadata": {},
   "outputs": [],
   "source": [
    "df.dropna(inplace=True)"
   ]
  },
  {
   "cell_type": "code",
   "execution_count": null,
   "metadata": {},
   "outputs": [],
   "source": [
    "# df.isna().sum()"
   ]
  },
  {
   "cell_type": "markdown",
   "metadata": {},
   "source": [
    "### Matplotlib"
   ]
  },
  {
   "cell_type": "code",
   "execution_count": null,
   "metadata": {},
   "outputs": [],
   "source": [
    "df.head()"
   ]
  },
  {
   "cell_type": "code",
   "execution_count": null,
   "metadata": {},
   "outputs": [],
   "source": [
    "df.columns"
   ]
  },
  {
   "cell_type": "code",
   "execution_count": 50,
   "metadata": {},
   "outputs": [
    {
     "data": {
      "text/html": [
       "<div>\n",
       "<style scoped>\n",
       "    .dataframe tbody tr th:only-of-type {\n",
       "        vertical-align: middle;\n",
       "    }\n",
       "\n",
       "    .dataframe tbody tr th {\n",
       "        vertical-align: top;\n",
       "    }\n",
       "\n",
       "    .dataframe thead th {\n",
       "        text-align: right;\n",
       "    }\n",
       "</style>\n",
       "<table border=\"1\" class=\"dataframe\">\n",
       "  <thead>\n",
       "    <tr style=\"text-align: right;\">\n",
       "      <th></th>\n",
       "      <th>Rank</th>\n",
       "      <th>CCA3</th>\n",
       "      <th>Country</th>\n",
       "      <th>Capital</th>\n",
       "      <th>Continent</th>\n",
       "      <th>2022 Population</th>\n",
       "      <th>2020 Population</th>\n",
       "      <th>2015 Population</th>\n",
       "      <th>2010 Population</th>\n",
       "      <th>2000 Population</th>\n",
       "      <th>1990 Population</th>\n",
       "      <th>1980 Population</th>\n",
       "      <th>1970 Population</th>\n",
       "      <th>Area (km²)</th>\n",
       "      <th>Density (per km²)</th>\n",
       "      <th>Growth Rate</th>\n",
       "      <th>World Population Percentage</th>\n",
       "    </tr>\n",
       "  </thead>\n",
       "  <tbody>\n",
       "    <tr>\n",
       "      <th>0</th>\n",
       "      <td>135</td>\n",
       "      <td>MDA</td>\n",
       "      <td>Moldova</td>\n",
       "      <td>Chisinau</td>\n",
       "      <td>Europe</td>\n",
       "      <td>3272996.0</td>\n",
       "      <td>3084847.0</td>\n",
       "      <td>3277388.0</td>\n",
       "      <td>3678186.0</td>\n",
       "      <td>4251573.0</td>\n",
       "      <td>4480199.0</td>\n",
       "      <td>4103240.0</td>\n",
       "      <td>3711140.0</td>\n",
       "      <td>33846.0</td>\n",
       "      <td>96.7026</td>\n",
       "      <td>1.0691</td>\n",
       "      <td>0.04</td>\n",
       "    </tr>\n",
       "    <tr>\n",
       "      <th>1</th>\n",
       "      <td>37</td>\n",
       "      <td>POL</td>\n",
       "      <td>Poland</td>\n",
       "      <td>Warsaw</td>\n",
       "      <td>Europe</td>\n",
       "      <td>39857145.0</td>\n",
       "      <td>38428366.0</td>\n",
       "      <td>38553146.0</td>\n",
       "      <td>38597353.0</td>\n",
       "      <td>38504431.0</td>\n",
       "      <td>38064255.0</td>\n",
       "      <td>35521429.0</td>\n",
       "      <td>32482943.0</td>\n",
       "      <td>312679.0</td>\n",
       "      <td>127.4698</td>\n",
       "      <td>1.0404</td>\n",
       "      <td>0.50</td>\n",
       "    </tr>\n",
       "    <tr>\n",
       "      <th>2</th>\n",
       "      <td>54</td>\n",
       "      <td>NER</td>\n",
       "      <td>Niger</td>\n",
       "      <td>Niamey</td>\n",
       "      <td>Africa</td>\n",
       "      <td>26207977.0</td>\n",
       "      <td>24333639.0</td>\n",
       "      <td>20128124.0</td>\n",
       "      <td>16647543.0</td>\n",
       "      <td>11622665.0</td>\n",
       "      <td>8370647.0</td>\n",
       "      <td>6173177.0</td>\n",
       "      <td>4669708.0</td>\n",
       "      <td>1267000.0</td>\n",
       "      <td>20.6851</td>\n",
       "      <td>1.0378</td>\n",
       "      <td>0.33</td>\n",
       "    </tr>\n",
       "    <tr>\n",
       "      <th>3</th>\n",
       "      <td>60</td>\n",
       "      <td>SYR</td>\n",
       "      <td>Syria</td>\n",
       "      <td>Damascus</td>\n",
       "      <td>Asia</td>\n",
       "      <td>22125249.0</td>\n",
       "      <td>20772595.0</td>\n",
       "      <td>19205178.0</td>\n",
       "      <td>22337563.0</td>\n",
       "      <td>16307654.0</td>\n",
       "      <td>12408996.0</td>\n",
       "      <td>8898954.0</td>\n",
       "      <td>6319199.0</td>\n",
       "      <td>185180.0</td>\n",
       "      <td>119.4797</td>\n",
       "      <td>1.0376</td>\n",
       "      <td>0.28</td>\n",
       "    </tr>\n",
       "    <tr>\n",
       "      <th>4</th>\n",
       "      <td>116</td>\n",
       "      <td>SVK</td>\n",
       "      <td>Slovakia</td>\n",
       "      <td>Bratislava</td>\n",
       "      <td>Europe</td>\n",
       "      <td>5643453.0</td>\n",
       "      <td>5456681.0</td>\n",
       "      <td>5424444.0</td>\n",
       "      <td>5396424.0</td>\n",
       "      <td>5376690.0</td>\n",
       "      <td>5261305.0</td>\n",
       "      <td>4973883.0</td>\n",
       "      <td>4522867.0</td>\n",
       "      <td>49037.0</td>\n",
       "      <td>115.0856</td>\n",
       "      <td>1.0359</td>\n",
       "      <td>0.07</td>\n",
       "    </tr>\n",
       "    <tr>\n",
       "      <th>5</th>\n",
       "      <td>15</td>\n",
       "      <td>COD</td>\n",
       "      <td>DR Congo</td>\n",
       "      <td>Kinshasa</td>\n",
       "      <td>Africa</td>\n",
       "      <td>99010212.0</td>\n",
       "      <td>92853164.0</td>\n",
       "      <td>78656904.0</td>\n",
       "      <td>66391257.0</td>\n",
       "      <td>48616317.0</td>\n",
       "      <td>35987541.0</td>\n",
       "      <td>26708686.0</td>\n",
       "      <td>20151733.0</td>\n",
       "      <td>2344858.0</td>\n",
       "      <td>42.2244</td>\n",
       "      <td>1.0325</td>\n",
       "      <td>1.24</td>\n",
       "    </tr>\n",
       "    <tr>\n",
       "      <th>6</th>\n",
       "      <td>182</td>\n",
       "      <td>MYT</td>\n",
       "      <td>Mayotte</td>\n",
       "      <td>Mamoudzou</td>\n",
       "      <td>Africa</td>\n",
       "      <td>326101.0</td>\n",
       "      <td>305587.0</td>\n",
       "      <td>249545.0</td>\n",
       "      <td>211786.0</td>\n",
       "      <td>159215.0</td>\n",
       "      <td>92659.0</td>\n",
       "      <td>52233.0</td>\n",
       "      <td>35383.0</td>\n",
       "      <td>374.0</td>\n",
       "      <td>871.9278</td>\n",
       "      <td>1.0319</td>\n",
       "      <td>0.00</td>\n",
       "    </tr>\n",
       "    <tr>\n",
       "      <th>7</th>\n",
       "      <td>69</td>\n",
       "      <td>TCD</td>\n",
       "      <td>Chad</td>\n",
       "      <td>N'Djamena</td>\n",
       "      <td>Africa</td>\n",
       "      <td>17723315.0</td>\n",
       "      <td>16644701.0</td>\n",
       "      <td>14140274.0</td>\n",
       "      <td>11894727.0</td>\n",
       "      <td>8259137.0</td>\n",
       "      <td>5827069.0</td>\n",
       "      <td>4408230.0</td>\n",
       "      <td>3667394.0</td>\n",
       "      <td>1284000.0</td>\n",
       "      <td>13.8032</td>\n",
       "      <td>1.0316</td>\n",
       "      <td>0.22</td>\n",
       "    </tr>\n",
       "    <tr>\n",
       "      <th>8</th>\n",
       "      <td>42</td>\n",
       "      <td>AGO</td>\n",
       "      <td>Angola</td>\n",
       "      <td>Luanda</td>\n",
       "      <td>Africa</td>\n",
       "      <td>35588987.0</td>\n",
       "      <td>33428485.0</td>\n",
       "      <td>28127721.0</td>\n",
       "      <td>23364185.0</td>\n",
       "      <td>16394062.0</td>\n",
       "      <td>11828638.0</td>\n",
       "      <td>8330047.0</td>\n",
       "      <td>6029700.0</td>\n",
       "      <td>1246700.0</td>\n",
       "      <td>28.5466</td>\n",
       "      <td>1.0315</td>\n",
       "      <td>0.45</td>\n",
       "    </tr>\n",
       "    <tr>\n",
       "      <th>9</th>\n",
       "      <td>59</td>\n",
       "      <td>MLI</td>\n",
       "      <td>Mali</td>\n",
       "      <td>Bamako</td>\n",
       "      <td>Africa</td>\n",
       "      <td>22593590.0</td>\n",
       "      <td>21224040.0</td>\n",
       "      <td>18112907.0</td>\n",
       "      <td>15529181.0</td>\n",
       "      <td>11239101.0</td>\n",
       "      <td>8945026.0</td>\n",
       "      <td>7372581.0</td>\n",
       "      <td>6153587.0</td>\n",
       "      <td>1240192.0</td>\n",
       "      <td>18.2178</td>\n",
       "      <td>1.0314</td>\n",
       "      <td>0.28</td>\n",
       "    </tr>\n",
       "  </tbody>\n",
       "</table>\n",
       "</div>"
      ],
      "text/plain": [
       "   Rank CCA3   Country     Capital Continent  2022 Population  \\\n",
       "0   135  MDA   Moldova    Chisinau    Europe        3272996.0   \n",
       "1    37  POL    Poland      Warsaw    Europe       39857145.0   \n",
       "2    54  NER     Niger      Niamey    Africa       26207977.0   \n",
       "3    60  SYR     Syria    Damascus      Asia       22125249.0   \n",
       "4   116  SVK  Slovakia  Bratislava    Europe        5643453.0   \n",
       "5    15  COD  DR Congo    Kinshasa    Africa       99010212.0   \n",
       "6   182  MYT   Mayotte   Mamoudzou    Africa         326101.0   \n",
       "7    69  TCD      Chad   N'Djamena    Africa       17723315.0   \n",
       "8    42  AGO    Angola      Luanda    Africa       35588987.0   \n",
       "9    59  MLI      Mali      Bamako    Africa       22593590.0   \n",
       "\n",
       "   2020 Population  2015 Population  2010 Population  2000 Population  \\\n",
       "0        3084847.0        3277388.0        3678186.0        4251573.0   \n",
       "1       38428366.0       38553146.0       38597353.0       38504431.0   \n",
       "2       24333639.0       20128124.0       16647543.0       11622665.0   \n",
       "3       20772595.0       19205178.0       22337563.0       16307654.0   \n",
       "4        5456681.0        5424444.0        5396424.0        5376690.0   \n",
       "5       92853164.0       78656904.0       66391257.0       48616317.0   \n",
       "6         305587.0         249545.0         211786.0         159215.0   \n",
       "7       16644701.0       14140274.0       11894727.0        8259137.0   \n",
       "8       33428485.0       28127721.0       23364185.0       16394062.0   \n",
       "9       21224040.0       18112907.0       15529181.0       11239101.0   \n",
       "\n",
       "   1990 Population  1980 Population  1970 Population  Area (km²)  \\\n",
       "0        4480199.0        4103240.0        3711140.0     33846.0   \n",
       "1       38064255.0       35521429.0       32482943.0    312679.0   \n",
       "2        8370647.0        6173177.0        4669708.0   1267000.0   \n",
       "3       12408996.0        8898954.0        6319199.0    185180.0   \n",
       "4        5261305.0        4973883.0        4522867.0     49037.0   \n",
       "5       35987541.0       26708686.0       20151733.0   2344858.0   \n",
       "6          92659.0          52233.0          35383.0       374.0   \n",
       "7        5827069.0        4408230.0        3667394.0   1284000.0   \n",
       "8       11828638.0        8330047.0        6029700.0   1246700.0   \n",
       "9        8945026.0        7372581.0        6153587.0   1240192.0   \n",
       "\n",
       "   Density (per km²)  Growth Rate  World Population Percentage  \n",
       "0            96.7026       1.0691                         0.04  \n",
       "1           127.4698       1.0404                         0.50  \n",
       "2            20.6851       1.0378                         0.33  \n",
       "3           119.4797       1.0376                         0.28  \n",
       "4           115.0856       1.0359                         0.07  \n",
       "5            42.2244       1.0325                         1.24  \n",
       "6           871.9278       1.0319                         0.00  \n",
       "7            13.8032       1.0316                         0.22  \n",
       "8            28.5466       1.0315                         0.45  \n",
       "9            18.2178       1.0314                         0.28  "
      ]
     },
     "execution_count": 50,
     "metadata": {},
     "output_type": "execute_result"
    }
   ],
   "source": [
    "topGrowthRate = df.sort_values(by=\"Growth Rate\", ascending=False)[:10].reset_index(drop=True)\n",
    "topGrowthRate"
   ]
  },
  {
   "cell_type": "markdown",
   "metadata": {},
   "source": [
    "#### Scatter Plot"
   ]
  },
  {
   "cell_type": "code",
   "execution_count": 38,
   "metadata": {},
   "outputs": [
    {
     "data": {
      "image/png": "[encoded data removed]",
      "text/plain": [
       "<Figure size 640x480 with 1 Axes>"
      ]
     },
     "metadata": {},
     "output_type": "display_data"
    }
   ],
   "source": [
    "X_data = np.random.rand(10)\n",
    "y_data = np.random.rand(10)\n",
    "\n",
    "plt.scatter(x=X_data, y=y_data)\n",
    "\n",
    "plt.show()"
   ]
  },
  {
   "cell_type": "code",
   "execution_count": 36,
   "metadata": {},
   "outputs": [
    {
     "data": {
      "image/png": "[encoded data removed]",
      "text/plain": [
       "<Figure size 640x480 with 1 Axes>"
      ]
     },
     "metadata": {},
     "output_type": "display_data"
    }
   ],
   "source": [
    "X_data = np.random.rand(10)\n",
    "y_data = np.random.rand(10)\n",
    "\n",
    "plt.scatter(X_data, y_data, c='red', marker='*', s=50)\n",
    "plt.show()"
   ]
  },
  {
   "cell_type": "code",
   "execution_count": 51,
   "metadata": {},
   "outputs": [
    {
     "data": {
      "image/png": "[encoded data removed]",
      "text/plain": [
       "<Figure size 640x480 with 1 Axes>"
      ]
     },
     "metadata": {},
     "output_type": "display_data"
    }
   ],
   "source": [
    "plt.scatter(topGrowthRate[\"Growth Rate\"], topGrowthRate[\"World Population Percentage\"])\n",
    "\n",
    "plt.show()"
   ]
  },
  {
   "cell_type": "markdown",
   "metadata": {},
   "source": [
    "#### Line Plot"
   ]
  },
  {
   "cell_type": "code",
   "execution_count": 41,
   "metadata": {},
   "outputs": [
    {
     "data": {
      "image/png": "[encoded data removed]",
      "text/plain": [
       "<Figure size 640x480 with 1 Axes>"
      ]
     },
     "metadata": {},
     "output_type": "display_data"
    }
   ],
   "source": [
    "month = [1 + i for i in range(12)]\n",
    "sales = [100, 200, 150, 250, 100, 300, 350, 400, 450, 500, 550, 600]\n",
    "\n",
    "plt.plot(month, sales)\n",
    "\n",
    "plt.show()"
   ]
  },
  {
   "cell_type": "code",
   "execution_count": 40,
   "metadata": {},
   "outputs": [
    {
     "data": {
      "image/png": "[encoded data removed]",
      "text/plain": [
       "<Figure size 640x480 with 1 Axes>"
      ]
     },
     "metadata": {},
     "output_type": "display_data"
    }
   ],
   "source": [
    "plt.plot(month, sales, c='green', linestyle='--', marker='o')\n",
    "\n",
    "plt.show()"
   ]
  },
  {
   "cell_type": "code",
   "execution_count": 54,
   "metadata": {},
   "outputs": [
    {
     "data": {
      "text/html": [
       "<div>\n",
       "<style scoped>\n",
       "    .dataframe tbody tr th:only-of-type {\n",
       "        vertical-align: middle;\n",
       "    }\n",
       "\n",
       "    .dataframe tbody tr th {\n",
       "        vertical-align: top;\n",
       "    }\n",
       "\n",
       "    .dataframe thead th {\n",
       "        text-align: right;\n",
       "    }\n",
       "</style>\n",
       "<table border=\"1\" class=\"dataframe\">\n",
       "  <thead>\n",
       "    <tr style=\"text-align: right;\">\n",
       "      <th></th>\n",
       "      <th>Year</th>\n",
       "      <th>Population</th>\n",
       "    </tr>\n",
       "  </thead>\n",
       "  <tbody>\n",
       "    <tr>\n",
       "      <th>7</th>\n",
       "      <td>1970 Population</td>\n",
       "      <td>4522867.0</td>\n",
       "    </tr>\n",
       "    <tr>\n",
       "      <th>6</th>\n",
       "      <td>1980 Population</td>\n",
       "      <td>4973883.0</td>\n",
       "    </tr>\n",
       "    <tr>\n",
       "      <th>5</th>\n",
       "      <td>1990 Population</td>\n",
       "      <td>5261305.0</td>\n",
       "    </tr>\n",
       "    <tr>\n",
       "      <th>4</th>\n",
       "      <td>2000 Population</td>\n",
       "      <td>5376690.0</td>\n",
       "    </tr>\n",
       "    <tr>\n",
       "      <th>3</th>\n",
       "      <td>2010 Population</td>\n",
       "      <td>5396424.0</td>\n",
       "    </tr>\n",
       "    <tr>\n",
       "      <th>2</th>\n",
       "      <td>2015 Population</td>\n",
       "      <td>5424444.0</td>\n",
       "    </tr>\n",
       "    <tr>\n",
       "      <th>1</th>\n",
       "      <td>2020 Population</td>\n",
       "      <td>5456681.0</td>\n",
       "    </tr>\n",
       "    <tr>\n",
       "      <th>0</th>\n",
       "      <td>2022 Population</td>\n",
       "      <td>5643453.0</td>\n",
       "    </tr>\n",
       "  </tbody>\n",
       "</table>\n",
       "</div>"
      ],
      "text/plain": [
       "              Year  Population\n",
       "7  1970 Population   4522867.0\n",
       "6  1980 Population   4973883.0\n",
       "5  1990 Population   5261305.0\n",
       "4  2000 Population   5376690.0\n",
       "3  2010 Population   5396424.0\n",
       "2  2015 Population   5424444.0\n",
       "1  2020 Population   5456681.0\n",
       "0  2022 Population   5643453.0"
      ]
     },
     "execution_count": 54,
     "metadata": {},
     "output_type": "execute_result"
    }
   ],
   "source": [
    "slovakia_population_trend = topGrowthRate[topGrowthRate[\"Country\"] == \"Slovakia\"].loc[:, \"2022 Population\":\"1970 Population\"].T.reset_index().rename(columns={\"index\": \"Year\", 4: \"Population\"}).sort_values(\"Year\", ascending=True)\n",
    "slovakia_population_trend"
   ]
  },
  {
   "cell_type": "code",
   "execution_count": 55,
   "metadata": {},
   "outputs": [
    {
     "data": {
      "image/png": "[encoded data removed]",
      "text/plain": [
       "<Figure size 640x480 with 1 Axes>"
      ]
     },
     "metadata": {},
     "output_type": "display_data"
    }
   ],
   "source": [
    "plt.plot(slovakia_population_trend[\"Year\"], slovakia_population_trend[\"Population\"])\n",
    "\n",
    "plt.show()"
   ]
  },
  {
   "cell_type": "markdown",
   "metadata": {},
   "source": [
    "#### Bar Plot"
   ]
  },
  {
   "cell_type": "code",
   "execution_count": 45,
   "metadata": {},
   "outputs": [
    {
     "data": {
      "image/png": "[encoded data removed]",
      "text/plain": [
       "<Figure size 640x480 with 1 Axes>"
      ]
     },
     "metadata": {},
     "output_type": "display_data"
    }
   ],
   "source": [
    "items = [\"Books\", \"Pencils\", \"Erasers\", \"Pens\"]\n",
    "sales = [50, 70, 30, 90]\n",
    "\n",
    "plt.bar(items, sales)\n",
    "\n",
    "plt.show()"
   ]
  },
  {
   "cell_type": "code",
   "execution_count": 46,
   "metadata": {},
   "outputs": [
    {
     "data": {
      "image/png": "[encoded data removed]",
      "text/plain": [
       "<Figure size 640x480 with 1 Axes>"
      ]
     },
     "metadata": {},
     "output_type": "display_data"
    }
   ],
   "source": [
    "plt.bar(items, sales, align='center', edgecolor='black', color='white')\n",
    "\n",
    "plt.show()"
   ]
  },
  {
   "cell_type": "code",
   "execution_count": 56,
   "metadata": {},
   "outputs": [
    {
     "data": {
      "image/png": "[encoded data removed]",
      "text/plain": [
       "<Figure size 640x480 with 1 Axes>"
      ]
     },
     "metadata": {},
     "output_type": "display_data"
    }
   ],
   "source": [
    "plt.bar(topGrowthRate[\"CCA3\"], topGrowthRate[\"Growth Rate\"])\n",
    "\n",
    "plt.show()"
   ]
  },
  {
   "cell_type": "markdown",
   "metadata": {},
   "source": [
    "#### Pie Plot"
   ]
  },
  {
   "cell_type": "code",
   "execution_count": 60,
   "metadata": {},
   "outputs": [
    {
     "data": {
      "image/png": "[encoded data removed]",
      "text/plain": [
       "<Figure size 640x480 with 1 Axes>"
      ]
     },
     "metadata": {},
     "output_type": "display_data"
    }
   ],
   "source": [
    "langs = [\"Python\", \"Java\", \"C++\", \"Ruby\", \"Javascript\"]\n",
    "votes = [40, 15, 10, 30, 5]\n",
    "explode = [0.1, 0, 0, 0, 0]\n",
    "\n",
    "plt.pie(votes, labels=langs, autopct='%1.1f%%', explode=explode)\n",
    "\n",
    "plt.show()"
   ]
  },
  {
   "cell_type": "code",
   "execution_count": 58,
   "metadata": {},
   "outputs": [
    {
     "data": {
      "image/png": "[encoded data removed]",
      "text/plain": [
       "<Figure size 640x480 with 1 Axes>"
      ]
     },
     "metadata": {},
     "output_type": "display_data"
    }
   ],
   "source": [
    "plt.pie(votes, labels=langs, autopct='%1.1f%%', explode=explode, startangle=90)\n",
    "\n",
    "plt.show()"
   ]
  },
  {
   "cell_type": "code",
   "execution_count": null,
   "metadata": {},
   "outputs": [],
   "source": [
    "topGrowthRateContinent = topGrowthRate.value_counts(\"Continent\").reset_index()\n",
    "topGrowthRateContinent"
   ]
  },
  {
   "cell_type": "code",
   "execution_count": null,
   "metadata": {},
   "outputs": [],
   "source": [
    "plt.pie(topGrowthRateContinent[\"count\"], labels=topGrowthRateContinent[\"Continent\"], autopct='%1.1f%%', startangle=90, explode=[0.1, 0, 0])\n",
    "plt.show()"
   ]
  },
  {
   "cell_type": "markdown",
   "metadata": {},
   "source": [
    "#### Box Plot"
   ]
  },
  {
   "cell_type": "code",
   "execution_count": 63,
   "metadata": {},
   "outputs": [
    {
     "data": {
      "image/png": "[encoded data removed]",
      "text/plain": [
       "<Figure size 640x480 with 1 Axes>"
      ]
     },
     "metadata": {},
     "output_type": "display_data"
    }
   ],
   "source": [
    "heights = np.random.normal(170, 10, 1000)\n",
    "\n",
    "plt.boxplot(heights)\n",
    "\n",
    "plt.show()"
   ]
  },
  {
   "cell_type": "code",
   "execution_count": null,
   "metadata": {},
   "outputs": [],
   "source": [
    "plt.boxplot(topGrowthRate[\"Density (per km²)\"])\n",
    "\n",
    "plt.show()"
   ]
  },
  {
   "cell_type": "markdown",
   "metadata": {},
   "source": [
    "#### Histogram Plot"
   ]
  },
  {
   "cell_type": "code",
   "execution_count": 65,
   "metadata": {},
   "outputs": [
    {
     "data": {
      "image/png": "[encoded data removed]",
      "text/plain": [
       "<Figure size 640x480 with 1 Axes>"
      ]
     },
     "metadata": {},
     "output_type": "display_data"
    }
   ],
   "source": [
    "heights = np.random.normal(170, 10, 1000)\n",
    "plt.hist(heights, bins=30)\n",
    "\n",
    "plt.show()"
   ]
  },
  {
   "cell_type": "code",
   "execution_count": null,
   "metadata": {},
   "outputs": [],
   "source": [
    "plt.hist(topGrowthRate[\"Density (per km²)\"], bins=20)\n",
    "\n",
    "plt.show()"
   ]
  },
  {
   "cell_type": "code",
   "execution_count": null,
   "metadata": {},
   "outputs": [],
   "source": [
    "topGrowthRate[\"Density (per km²)\"]"
   ]
  },
  {
   "cell_type": "markdown",
   "metadata": {},
   "source": [
    "#### Plot Styling"
   ]
  },
  {
   "cell_type": "code",
   "execution_count": 66,
   "metadata": {},
   "outputs": [
    {
     "data": {
      "image/png": "[encoded data removed]",
      "text/plain": [
       "<Figure size 640x480 with 1 Axes>"
      ]
     },
     "metadata": {},
     "output_type": "display_data"
    }
   ],
   "source": [
    "plt.style.use(\"ggplot\")\n",
    "\n",
    "plt.plot(slovakia_population_trend[\"Year\"], slovakia_population_trend[\"Population\"], marker='o', linestyle='--')\n",
    "\n",
    "plt.title(\"Slovakia Population Trend\", fontsize=15, weight='bold')\n",
    "\n",
    "plt.xlabel(\"Year\")\n",
    "plt.ylabel(\"Population\")\n",
    "\n",
    "plt.xticks(rotation=45)\n",
    "\n",
    "\n",
    "plt.show()"
   ]
  },
  {
   "cell_type": "code",
   "execution_count": null,
   "metadata": {},
   "outputs": [],
   "source": []
  }
 ],
 "metadata": {
  "kernelspec": {
   "display_name": "notebook",
   "language": "python",
   "name": "python3"
  },
  "language_info": {
   "codemirror_mode": {
    "name": "ipython",
    "version": 3
   },
   "file_extension": ".py",
   "mimetype": "text/x-python",
   "name": "python",
   "nbconvert_exporter": "python",
   "pygments_lexer": "ipython3",
   "version": "3.11.9"
  }
 },
 "nbformat": 4,
 "nbformat_minor": 2
}
