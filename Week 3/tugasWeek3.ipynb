{
 "cells": [
  {
   "cell_type": "code",
   "execution_count": 11,
   "metadata": {},
   "outputs": [
    {
     "name": "stdout",
     "output_type": "stream",
     "text": [
      "1500.0\n"
     ]
    }
   ],
   "source": [
    "vegetables = int(input(\"Banyaknya yang dibeli: \"))\n",
    "\n",
    "if vegetables >= 2:\n",
    "    priceVegetables = 5000 * 0.1 * vegetables\n",
    "else:\n",
    "    priceVegetables = 5000 * vegetables\n",
    "print(priceVegetables)"
   ]
  },
  {
   "cell_type": "code",
   "execution_count": null,
   "metadata": {},
   "outputs": [],
   "source": [
    "for i in range(4):\n",
    "    a"
   ]
  }
 ],
 "metadata": {
  "interpreter": {
   "hash": "1f921181c1eb90eacafe1c078d301b8db8838801a3d9ceef3ee39610742ad6b0"
  },
  "kernelspec": {
   "display_name": "Python 3.9.16 ('mlops')",
   "language": "python",
   "name": "python3"
  },
  "language_info": {
   "codemirror_mode": {
    "name": "ipython",
    "version": 3
   },
   "file_extension": ".py",
   "mimetype": "text/x-python",
   "name": "python",
   "nbconvert_exporter": "python",
   "pygments_lexer": "ipython3",
   "version": "3.9.16"
  },
  "orig_nbformat": 4
 },
 "nbformat": 4,
 "nbformat_minor": 2
}
